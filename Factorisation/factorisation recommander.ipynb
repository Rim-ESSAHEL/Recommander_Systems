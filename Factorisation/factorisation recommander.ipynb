{
 "cells": [
  {
   "cell_type": "code",
   "execution_count": 2,
   "metadata": {
    "id": "aBIaWSLf9q3b"
   },
   "outputs": [],
   "source": [
    "import numpy\n",
    "\n",
    "raw = open(\"ratings_small.csv\", \"r\").readlines()[1:]\n",
    "raw = [line.split(',')[:-1] for line in raw]\n",
    "\n",
    "N = int(max(raw, key=lambda x: int(x[0]))[0])  # N: num of User\n",
    "M = int(max(raw, key=lambda x: int(x[1]))[1])  # M: num of Movie\n",
    "K = 5  # Num of Features\n",
    "\n",
    "R = [[0 for _ in range(M)] for _ in range(N)]\n",
    "for line in raw:\n",
    "    R[int(line[0]) - 1][int(line[1]) - 1] = float(line[2])\n",
    "\n",
    "R = numpy.array(R)\n",
    "\n",
    "P = numpy.random.rand(N, K)\n",
    "Q = numpy.random.rand(M, K)"
   ]
  },
  {
   "cell_type": "code",
   "execution_count": 3,
   "metadata": {
    "colab": {
     "base_uri": "https://localhost:8080/"
    },
    "id": "vfU7-M2U9jQ6",
    "outputId": "a6d724c8-a88f-4104-d09a-18991a9644e7"
   },
   "outputs": [
    {
     "name": "stdout",
     "output_type": "stream",
     "text": [
      "0.0 %\n",
      "2.0 %\n",
      "4.0 %\n",
      "6.0 %\n",
      "8.0 %\n",
      "10.0 %\n",
      "12.0 %\n",
      "14.0 %\n",
      "16.0 %\n",
      "18.0 %\n",
      "20.0 %\n",
      "22.0 %\n",
      "24.0 %\n",
      "26.0 %\n",
      "28.0 %\n",
      "30.0 %\n",
      "32.0 %\n",
      "34.0 %\n",
      "36.0 %\n",
      "38.0 %\n",
      "40.0 %\n",
      "42.0 %\n",
      "44.0 %\n",
      "46.0 %\n",
      "48.0 %\n",
      "50.0 %\n",
      "52.0 %\n",
      "54.0 %\n",
      "56.0 %\n",
      "58.0 %\n",
      "60.0 %\n",
      "62.0 %\n",
      "64.0 %\n",
      "66.0 %\n",
      "68.0 %\n",
      "70.0 %\n",
      "72.0 %\n",
      "74.0 %\n",
      "76.0 %\n",
      "78.0 %\n",
      "80.0 %\n",
      "82.0 %\n",
      "84.0 %\n",
      "86.0 %\n",
      "88.0 %\n",
      "90.0 %\n",
      "92.0 %\n",
      "94.0 %\n",
      "96.0 %\n",
      "98.0 %\n",
      "[3.98147004 3.39077434 3.26532486 ... 2.15604133 2.3418918  3.02668902]\n"
     ]
    }
   ],
   "source": [
    "def matrix_factorization(R, P, Q, K, steps=50, alpha=0.0002, beta=0.02):\n",
    "    \"\"\"\n",
    "    R: rating matrix\n",
    "    P: |U| * K (User features matrix)\n",
    "    Q: |D| * K (Item features matrix)\n",
    "    K: latent features\n",
    "    steps: iterations\n",
    "    alpha: learning rate\n",
    "    beta: regularization parameter\"\"\"\n",
    "    Q = Q.T\n",
    "\n",
    "    for step in range(steps):\n",
    "        print(100 * step / steps, \"%\")\n",
    "        for i in range(len(R)):\n",
    "            for j in range(len(R[i])):\n",
    "                if R[i][j] > 0:\n",
    "                    # calculate error\n",
    "                    eij = R[i][j] - numpy.dot(P[i, :], Q[:, j])\n",
    "\n",
    "                    for k in range(K):\n",
    "                        # calculate gradient with a and beta parameter\n",
    "                        P[i][k] = P[i][k] + alpha * (2 * eij * Q[k][j] - beta * P[i][k])\n",
    "                        Q[k][j] = Q[k][j] + alpha * (2 * eij * P[i][k] - beta * Q[k][j])\n",
    "\n",
    "        eR = numpy.dot(P, Q)\n",
    "\n",
    "        e = 0\n",
    "\n",
    "        for i in range(len(R)):\n",
    "\n",
    "            for j in range(len(R[i])):\n",
    "\n",
    "                if R[i][j] > 0:\n",
    "\n",
    "                    e += pow(R[i][j] - numpy.dot(P[i, :], Q[:, j]), 2)\n",
    "\n",
    "                    for k in range(K):\n",
    "                        e += (beta / 2) * (pow(P[i][k], 2) + pow(Q[k][j], 2))\n",
    "        # 0.001: local minimum\n",
    "        if e < 0.001:\n",
    "            break\n",
    "\n",
    "    return P, Q.T\n",
    "\n",
    "\n",
    "nP, nQ = matrix_factorization(R, P, Q, K)\n",
    "\n",
    "nR = numpy.dot(nP, nQ.T)\n",
    "\n",
    "print(nR[-1])\n"
   ]
  },
  {
   "cell_type": "markdown",
   "metadata": {},
   "source": [
    "# Deploiement"
   ]
  },
  {
   "cell_type": "code",
   "execution_count": 9,
   "metadata": {
    "id": "zucZg4kggERc"
   },
   "outputs": [],
   "source": [
    "import pickle\n",
    "import pandas as pd"
   ]
  },
  {
   "cell_type": "code",
   "execution_count": 10,
   "metadata": {},
   "outputs": [],
   "source": [
    "with open('nR.pickle', 'wb') as handle:\n",
    "    pickle.dump(nR, handle, protocol=pickle.HIGHEST_PROTOCOL)"
   ]
  },
  {
   "cell_type": "code",
   "execution_count": 11,
   "metadata": {
    "colab": {
     "base_uri": "https://localhost:8080/"
    },
    "id": "bZz8NHifgQy-",
    "outputId": "5b4f15fa-b71d-4e4a-e2bb-686cf9974854"
   },
   "outputs": [
    {
     "name": "stdout",
     "output_type": "stream",
     "text": [
      "[[2.41536335 1.98513236 1.83456782 ... 1.5228441  1.33001473 1.40575449]\n",
      " [3.8167391  3.15191909 2.97337332 ... 1.9668331  2.10118526 2.44966591]\n",
      " [3.41600894 3.15955171 2.9085284  ... 2.01407837 2.30148015 2.76949743]\n",
      " ...\n",
      " [3.42009625 3.11330694 2.95811246 ... 1.81651396 2.14733112 2.78864921]\n",
      " [3.48869194 3.07600582 2.79473768 ... 2.11276733 2.22257448 2.46079256]\n",
      " [3.98147004 3.39077434 3.26532486 ... 2.15604133 2.3418918  3.02668902]]\n"
     ]
    }
   ],
   "source": [
    "with open('nR.pickle', 'rb') as handle:\n",
    "    nR = pickle.load(handle)\n",
    "print(nR)"
   ]
  },
  {
   "cell_type": "code",
   "execution_count": 12,
   "metadata": {},
   "outputs": [],
   "source": [
    "meta = pd.read_csv('meta.csv')"
   ]
  },
  {
   "cell_type": "code",
   "execution_count": 16,
   "metadata": {
    "colab": {
     "base_uri": "https://localhost:8080/"
    },
    "id": "lgBpmhZ9eBLR",
    "outputId": "e612d8d7-4698-453a-ba22-78e972d105e1"
   },
   "outputs": [
    {
     "data": {
      "text/plain": [
       "0              黃飛鴻之西域雄獅\n",
       "1    The Gerson Miracle\n",
       "2                PiCNiC\n",
       "Name: original_title, dtype: object"
      ]
     },
     "execution_count": 16,
     "metadata": {},
     "output_type": "execute_result"
    }
   ],
   "source": [
    "def recommandation(user_id):\n",
    "    res = [y + 1 for y in sorted(list(range(len(nR[0]))), key=lambda x: nR[user_id - 1][x], reverse=True)][:20]\n",
    "    id_ = pd.DataFrame({'id':res})\n",
    "    result = pd.merge(id_, meta, on=\"id\")\n",
    "    return result['original_title']\n",
    "recommandation(50)"
   ]
  },
  {
   "cell_type": "code",
   "execution_count": null,
   "metadata": {},
   "outputs": [],
   "source": []
  }
 ],
 "metadata": {
  "accelerator": "GPU",
  "colab": {
   "collapsed_sections": [],
   "name": "Untitled0.ipynb",
   "provenance": []
  },
  "kernelspec": {
   "display_name": "Python 3 (ipykernel)",
   "language": "python",
   "name": "python3"
  },
  "language_info": {
   "codemirror_mode": {
    "name": "ipython",
    "version": 3
   },
   "file_extension": ".py",
   "mimetype": "text/x-python",
   "name": "python",
   "nbconvert_exporter": "python",
   "pygments_lexer": "ipython3",
   "version": "3.8.10"
  }
 },
 "nbformat": 4,
 "nbformat_minor": 4
}
