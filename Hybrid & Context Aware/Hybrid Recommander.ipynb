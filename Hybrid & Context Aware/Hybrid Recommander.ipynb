{
 "cells": [
  {
   "cell_type": "code",
   "execution_count": 22,
   "metadata": {},
   "outputs": [],
   "source": [
    "#!pip3 install scikit-surprise"
   ]
  },
  {
   "cell_type": "code",
   "execution_count": 8,
   "metadata": {},
   "outputs": [],
   "source": [
    "import numpy as np\n",
    "import pandas as pd\n",
    "\"\"\"from sklearn.feature_extraction.text import TfidfVectorizer\n",
    "from sklearn.metrics.pairwise import linear_kernel\n",
    "from surprise import Reader, Dataset, SVD\n",
    "from surprise.model_selection import KFold\n",
    "from surprise.model_selection.validation import cross_validate\n",
    "import copy\n",
    "from datetime import datetime\"\"\"\n",
    "import pickle\n",
    "import warnings\n",
    "warnings.filterwarnings(\"ignore\")"
   ]
  },
  {
   "cell_type": "code",
   "execution_count": 9,
   "metadata": {},
   "outputs": [],
   "source": [
    "meta=pd.read_csv('meta.csv')"
   ]
  },
  {
   "cell_type": "markdown",
   "metadata": {},
   "source": [
    "# User Based Recommander: Recommand Now"
   ]
  },
  {
   "cell_type": "code",
   "execution_count": 10,
   "metadata": {
    "colab": {
     "base_uri": "https://localhost:8080/",
     "height": 0
    },
    "id": "cb378678-1fc2-4d90-9994-40010a95e813",
    "outputId": "7507f7f1-7b44-4cfb-d454-8f1ba94d7bef"
   },
   "outputs": [
    {
     "name": "stdout",
     "output_type": "stream",
     "text": [
      "       userId  movieId  score_norm_4     original_title\n",
      "0           1     1371      1.967574          Rocky III\n",
      "1           4     1371      3.906171          Rocky III\n",
      "2           7     1371      3.003806          Rocky III\n",
      "3          19     1371      3.106015          Rocky III\n",
      "4          21     1371      3.062812          Rocky III\n",
      "...       ...      ...           ...                ...\n",
      "44999     652   129009      4.000000     Love Is a Ball\n",
      "45000     653     2103      3.000000            Solaris\n",
      "45001     659      167      4.000000              K-PAX\n",
      "45002     659      563      3.000000  Starship Troopers\n",
      "45003     665      129      3.000000           千と千尋の神隠し\n",
      "\n",
      "[45004 rows x 4 columns]\n"
     ]
    }
   ],
   "source": [
    "with open('df_rec .pickle', 'rb') as handle:\n",
    "    df_rec = pickle.load(handle)\n",
    "print(df_rec)"
   ]
  },
  {
   "cell_type": "code",
   "execution_count": 11,
   "metadata": {
    "id": "2232ec51-46dc-4aae-85d9-c3302e521a56"
   },
   "outputs": [],
   "source": [
    "def collab_recommander(user,N):\n",
    "    return df_rec[df_rec['userId'] == user].sort_values(by=['score_norm_4'], ascending=False).head(N)"
   ]
  },
  {
   "cell_type": "code",
   "execution_count": 12,
   "metadata": {
    "colab": {
     "base_uri": "https://localhost:8080/",
     "height": 363
    },
    "id": "HzSPJgORVyUD",
    "outputId": "32795125-24a9-405b-b5b5-e45a0d02c6d3"
   },
   "outputs": [
    {
     "data": {
      "text/html": [
       "<div>\n",
       "<style scoped>\n",
       "    .dataframe tbody tr th:only-of-type {\n",
       "        vertical-align: middle;\n",
       "    }\n",
       "\n",
       "    .dataframe tbody tr th {\n",
       "        vertical-align: top;\n",
       "    }\n",
       "\n",
       "    .dataframe thead th {\n",
       "        text-align: right;\n",
       "    }\n",
       "</style>\n",
       "<table border=\"1\" class=\"dataframe\">\n",
       "  <thead>\n",
       "    <tr style=\"text-align: right;\">\n",
       "      <th></th>\n",
       "      <th>original_title</th>\n",
       "    </tr>\n",
       "  </thead>\n",
       "  <tbody>\n",
       "    <tr>\n",
       "      <th>44986</th>\n",
       "      <td>The Return of Doctor X</td>\n",
       "    </tr>\n",
       "    <tr>\n",
       "      <th>44990</th>\n",
       "      <td>Lion of the Desert</td>\n",
       "    </tr>\n",
       "    <tr>\n",
       "      <th>44988</th>\n",
       "      <td>Anchorman: The Legend of Ron Burgundy</td>\n",
       "    </tr>\n",
       "    <tr>\n",
       "      <th>44998</th>\n",
       "      <td>8:46</td>\n",
       "    </tr>\n",
       "    <tr>\n",
       "      <th>44989</th>\n",
       "      <td>Brigham City</td>\n",
       "    </tr>\n",
       "    <tr>\n",
       "      <th>44996</th>\n",
       "      <td>Mud</td>\n",
       "    </tr>\n",
       "    <tr>\n",
       "      <th>43021</th>\n",
       "      <td>Carts of Darkness</td>\n",
       "    </tr>\n",
       "    <tr>\n",
       "      <th>35284</th>\n",
       "      <td>Irma la Douce</td>\n",
       "    </tr>\n",
       "    <tr>\n",
       "      <th>33204</th>\n",
       "      <td>Le fabuleux destin d'Amélie Poulain</td>\n",
       "    </tr>\n",
       "    <tr>\n",
       "      <th>44270</th>\n",
       "      <td>Tanguy</td>\n",
       "    </tr>\n",
       "  </tbody>\n",
       "</table>\n",
       "</div>"
      ],
      "text/plain": [
       "                              original_title\n",
       "44986                 The Return of Doctor X\n",
       "44990                     Lion of the Desert\n",
       "44988  Anchorman: The Legend of Ron Burgundy\n",
       "44998                                   8:46\n",
       "44989                           Brigham City\n",
       "44996                                    Mud\n",
       "43021                      Carts of Darkness\n",
       "35284                          Irma la Douce\n",
       "33204    Le fabuleux destin d'Amélie Poulain\n",
       "44270                                 Tanguy"
      ]
     },
     "execution_count": 12,
     "metadata": {},
     "output_type": "execute_result"
    }
   ],
   "source": [
    "collab_recommander(652,10).loc[:,[\"original_title\"]]"
   ]
  },
  {
   "cell_type": "markdown",
   "metadata": {},
   "source": [
    "# Content Based Recommander: Recommand Now"
   ]
  },
  {
   "cell_type": "code",
   "execution_count": 13,
   "metadata": {},
   "outputs": [],
   "source": [
    "import pickle \n",
    "import pandas as pd"
   ]
  },
  {
   "cell_type": "raw",
   "metadata": {},
   "source": [
    "with open('matrix_vocab.pickle', 'wb') as handle:\n",
    "    pickle.dump(matrix_vocab, handle, protocol=pickle.HIGHEST_PROTOCOL)"
   ]
  },
  {
   "cell_type": "code",
   "execution_count": 14,
   "metadata": {},
   "outputs": [
    {
     "data": {
      "text/html": [
       "<div>\n",
       "<style scoped>\n",
       "    .dataframe tbody tr th:only-of-type {\n",
       "        vertical-align: middle;\n",
       "    }\n",
       "\n",
       "    .dataframe tbody tr th {\n",
       "        vertical-align: top;\n",
       "    }\n",
       "\n",
       "    .dataframe thead th {\n",
       "        text-align: right;\n",
       "    }\n",
       "</style>\n",
       "<table border=\"1\" class=\"dataframe\">\n",
       "  <thead>\n",
       "    <tr style=\"text-align: right;\">\n",
       "      <th></th>\n",
       "      <th>adult</th>\n",
       "      <th>genres</th>\n",
       "      <th>imdb_id</th>\n",
       "      <th>original_title</th>\n",
       "      <th>overview</th>\n",
       "    </tr>\n",
       "  </thead>\n",
       "  <tbody>\n",
       "    <tr>\n",
       "      <th>0</th>\n",
       "      <td>['false']</td>\n",
       "      <td>['family', 'comedy', 'animation']</td>\n",
       "      <td>tt0114709</td>\n",
       "      <td>Toy Story</td>\n",
       "      <td>['owner', 'learns', 'live', 'separate', 'room'...</td>\n",
       "    </tr>\n",
       "    <tr>\n",
       "      <th>1</th>\n",
       "      <td>['false']</td>\n",
       "      <td>['family', 'adventure', 'fantasy']</td>\n",
       "      <td>tt0113497</td>\n",
       "      <td>Jumanji</td>\n",
       "      <td>['unwittingly', 'three', 'magical', 'room', 'h...</td>\n",
       "    </tr>\n",
       "    <tr>\n",
       "      <th>2</th>\n",
       "      <td>['false']</td>\n",
       "      <td>['comedy', 'romance']</td>\n",
       "      <td>tt0113228</td>\n",
       "      <td>Grumpier Old Men</td>\n",
       "      <td>['max', 'fish', 'reignites', 'less', 'scare', ...</td>\n",
       "    </tr>\n",
       "    <tr>\n",
       "      <th>3</th>\n",
       "      <td>['false']</td>\n",
       "      <td>['comedy', 'romance', 'drama']</td>\n",
       "      <td>tt0114885</td>\n",
       "      <td>Waiting to Exhale</td>\n",
       "      <td>['good', 'waiting', 'man', 'elusive', 'determi...</td>\n",
       "    </tr>\n",
       "    <tr>\n",
       "      <th>4</th>\n",
       "      <td>['false']</td>\n",
       "      <td>['comedy']</td>\n",
       "      <td>tt0113041</td>\n",
       "      <td>Father of the Bride Part II</td>\n",
       "      <td>['wife', 'plan', 'news', 'daughter', 'banks', ...</td>\n",
       "    </tr>\n",
       "  </tbody>\n",
       "</table>\n",
       "</div>"
      ],
      "text/plain": [
       "       adult                              genres    imdb_id  \\\n",
       "0  ['false']   ['family', 'comedy', 'animation']  tt0114709   \n",
       "1  ['false']  ['family', 'adventure', 'fantasy']  tt0113497   \n",
       "2  ['false']               ['comedy', 'romance']  tt0113228   \n",
       "3  ['false']      ['comedy', 'romance', 'drama']  tt0114885   \n",
       "4  ['false']                          ['comedy']  tt0113041   \n",
       "\n",
       "                original_title  \\\n",
       "0                    Toy Story   \n",
       "1                      Jumanji   \n",
       "2             Grumpier Old Men   \n",
       "3            Waiting to Exhale   \n",
       "4  Father of the Bride Part II   \n",
       "\n",
       "                                            overview  \n",
       "0  ['owner', 'learns', 'live', 'separate', 'room'...  \n",
       "1  ['unwittingly', 'three', 'magical', 'room', 'h...  \n",
       "2  ['max', 'fish', 'reignites', 'less', 'scare', ...  \n",
       "3  ['good', 'waiting', 'man', 'elusive', 'determi...  \n",
       "4  ['wife', 'plan', 'news', 'daughter', 'banks', ...  "
      ]
     },
     "execution_count": 14,
     "metadata": {},
     "output_type": "execute_result"
    }
   ],
   "source": [
    "with open('matrix_vocab.pickle', 'rb') as handle:\n",
    "    matrix_vocab = pickle.load(handle)\n",
    "#matrix_vocab\n",
    "df = pd.read_csv('content.csv')\n",
    "df.drop(columns=['Unnamed: 0'],inplace=True)\n",
    "df.head(5)\n"
   ]
  },
  {
   "cell_type": "code",
   "execution_count": 15,
   "metadata": {},
   "outputs": [],
   "source": [
    "import gensim\n",
    "wv = gensim.models.KeyedVectors.load_word2vec_format(\"GoogleNews-vectors-negative300.bin\", binary=True)"
   ]
  },
  {
   "cell_type": "code",
   "execution_count": 16,
   "metadata": {},
   "outputs": [],
   "source": [
    "def content_recommander(movie_title,data,N): \n",
    "    matrix_vocab = []\n",
    "    for list_ in data.to_numpy():\n",
    "        list_[0] = [word for word in list_[0] if word in wv.key_to_index]\n",
    "        list_[1] = [word for word in list_[1] if word in wv.key_to_index]\n",
    "        list_[4] = [word for word in list_[4] if word in wv.key_to_index]\n",
    "        matrix_vocab.append(list_)\n",
    "    data_vocab = pd.DataFrame(matrix_vocab, columns=data.columns)\n",
    "    \n",
    "    \n",
    "    matrix_title_vocab = []\n",
    "    for list_ in data[data['original_title'] == movie_title].to_numpy():\n",
    "        list_[0] = [word for word in list_[0] if word in wv.key_to_index]\n",
    "        list_[1] = [word for word in list_[1] if word in wv.key_to_index]\n",
    "        list_[4] = [word for word in list_[4] if word in wv.key_to_index]\n",
    "        matrix_title_vocab.append(list_)\n",
    "\n",
    "    matrix_similarity = []\n",
    "    pbar = matrix_vocab\n",
    "    for list1 in pbar:\n",
    "        for list2 in matrix_title_vocab:  \n",
    "            try:\n",
    "                score_adult = wv.n_similarity(list1[0], list2[0])\n",
    "            except:\n",
    "                score_adult = 0\n",
    "            try:\n",
    "                score_genre = wv.n_similarity(list1[1], list2[1])\n",
    "            except:\n",
    "                score_genre = 0\n",
    "            try:\n",
    "                score_overview = wv.n_similarity(list1[4], list2[4])\n",
    "            except:\n",
    "                score_overview = 0\n",
    "            if ((list1[4] != list2[4]) ):\n",
    "                matrix_similarity.append([ list1[3], list2[3], list1[0], list2[0],list1[1], list2[1],list1[4], list2[4], score_adult, score_genre,score_overview])\n",
    "\n",
    "    dfsimilarity = pd.DataFrame(matrix_similarity, columns = ['original_title','movie_request','adult','adult_request','genre','genre_request','overview','overview_request','score_adult', 'score_genre','score_overview'])\n",
    "    dfsimilarity['final_score'] = dfsimilarity['score_adult'] + dfsimilarity['score_genre']+ dfsimilarity['score_overview']\n",
    "    return (dfsimilarity.sort_values(by=['final_score',  'score_genre', 'score_overview'], ascending=False).head(N))"
   ]
  },
  {
   "cell_type": "code",
   "execution_count": 17,
   "metadata": {},
   "outputs": [],
   "source": [
    "rec = content_recommander('Richard III',df,5)"
   ]
  },
  {
   "cell_type": "code",
   "execution_count": 18,
   "metadata": {},
   "outputs": [
    {
     "data": {
      "text/plain": [
       "107618        Forty Little Mothers\n",
       "10546             Sans toit ni loi\n",
       "64616               Doctors' Wives\n",
       "115862    Ubistvo s predumišljajem\n",
       "9169              Any Given Sunday\n",
       "Name: original_title, dtype: object"
      ]
     },
     "execution_count": 18,
     "metadata": {},
     "output_type": "execute_result"
    }
   ],
   "source": [
    "rec[\"original_title\"]"
   ]
  },
  {
   "cell_type": "markdown",
   "metadata": {},
   "source": [
    "# Hybrid Recommander In Cascade: Recommand Now"
   ]
  },
  {
   "cell_type": "code",
   "execution_count": 19,
   "metadata": {},
   "outputs": [],
   "source": [
    "def hybrid_recommander(user,df,N):\n",
    "    x = collab_recommander(user,2)\n",
    "    y = x[x['score_norm_4']>3.5]\n",
    "    #print(y)\n",
    "    items_favoris = list(set(y['original_title'].tolist()))\n",
    "    #print(items_favoris)\n",
    "    items_sim = []\n",
    "    for i in tqdm(range(len(items_favoris))):\n",
    "        items_sim.append(content_recommander(items_favoris[i],df,5))#.head(5))\n",
    "    content= pd.concat(items_sim[0:len(items_favoris)]).sort_values(by=['final_score'], ascending = False)\n",
    "    #print(content)\n",
    "    fin = content.sort_values(by='final_score',ascending = False)    \n",
    "    return fin['original_title'].head(N)"
   ]
  },
  {
   "cell_type": "code",
   "execution_count": 20,
   "metadata": {},
   "outputs": [],
   "source": [
    "from tqdm import tqdm"
   ]
  },
  {
   "cell_type": "code",
   "execution_count": 21,
   "metadata": {},
   "outputs": [
    {
     "name": "stderr",
     "output_type": "stream",
     "text": [
      "100%|██████████| 2/2 [02:05<00:00, 61.30s/it]\n"
     ]
    },
    {
     "data": {
      "text/plain": [
       "1869     Friday the 13th: A New Beginning\n",
       "29865                            The Dorm\n",
       "13720                     Drag Me to Hell\n",
       "3831                           Lost Souls\n",
       "13526                          Naked Fear\n",
       "Name: original_title, dtype: object"
      ]
     },
     "execution_count": 21,
     "metadata": {},
     "output_type": "execute_result"
    }
   ],
   "source": [
    "hybrid_recommander(652, df,5)"
   ]
  }
 ],
 "metadata": {
  "kernelspec": {
   "display_name": "Python 3 (ipykernel)",
   "language": "python",
   "name": "python3"
  },
  "language_info": {
   "codemirror_mode": {
    "name": "ipython",
    "version": 3
   },
   "file_extension": ".py",
   "mimetype": "text/x-python",
   "name": "python",
   "nbconvert_exporter": "python",
   "pygments_lexer": "ipython3",
   "version": "3.8.10"
  }
 },
 "nbformat": 4,
 "nbformat_minor": 4
}
