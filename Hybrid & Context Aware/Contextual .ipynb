{
 "cells": [
  {
   "cell_type": "code",
   "execution_count": 1,
   "metadata": {},
   "outputs": [],
   "source": [
    "import pandas as pd\n",
    "import matplotlib.pyplot as plt\n",
    "import seaborn as sns\n",
    "#define Seaborn color palette to use\n",
    "colors = sns.color_palette('pastel')[0:5]"
   ]
  },
  {
   "cell_type": "code",
   "execution_count": 2,
   "metadata": {},
   "outputs": [
    {
     "name": "stdout",
     "output_type": "stream",
     "text": [
      "(70, 22)\n"
     ]
    },
    {
     "data": {
      "text/html": [
       "<div>\n",
       "<style scoped>\n",
       "    .dataframe tbody tr th:only-of-type {\n",
       "        vertical-align: middle;\n",
       "    }\n",
       "\n",
       "    .dataframe tbody tr th {\n",
       "        vertical-align: top;\n",
       "    }\n",
       "\n",
       "    .dataframe thead th {\n",
       "        text-align: right;\n",
       "    }\n",
       "</style>\n",
       "<table border=\"1\" class=\"dataframe\">\n",
       "  <thead>\n",
       "    <tr style=\"text-align: right;\">\n",
       "      <th></th>\n",
       "      <th>Timestamp</th>\n",
       "      <th>Name</th>\n",
       "      <th>Genre Preference in Morning  -: ( Choose all that apply )</th>\n",
       "      <th>Genre Preference during Afternoon -: ( Choose all that apply )</th>\n",
       "      <th>Genre Preference in Evening -: ( Choose all that apply )</th>\n",
       "      <th>Genre Preference at Night -: ( Choose all that apply )</th>\n",
       "      <th>Genre Preference during Winter -: ( Choose all that apply )</th>\n",
       "      <th>Genre Preference during Summer  -: ( Choose all that apply )</th>\n",
       "      <th>Genre Preference during Rainy/Monsoon  -: ( Choose all that apply )</th>\n",
       "      <th>Genre Preference during Autumn  -: ( Choose all that apply )</th>\n",
       "      <th>...</th>\n",
       "      <th>Genre Preference when on Large Screen Device -: ( Choose all that apply )</th>\n",
       "      <th>Genre Preference when on Tablet-Size Screen -: ( Choose all that apply )</th>\n",
       "      <th>Genre Preference when on Phone-Size Screen -: ( Choose all that apply )</th>\n",
       "      <th>Movie Genre when you are Happy  -: ( Choose all that apply )</th>\n",
       "      <th>Movie Genre when you are Sad -: ( Choose all that apply )</th>\n",
       "      <th>Movie Genre when you are Angry -: ( Choose all that apply )</th>\n",
       "      <th>Movie Genre when you are Normal -: ( Choose all that apply )</th>\n",
       "      <th>Genre Preference when watching with Family -: ( Choose all that apply )</th>\n",
       "      <th>Genre Preference when watching with Friends -: ( Choose all that apply )</th>\n",
       "      <th>Would you like to get recommended Holiday Theme Movies On Holidays (Ex : Border on Independence Day and Dangal /Marry Kom on Women's Day) -:</th>\n",
       "    </tr>\n",
       "  </thead>\n",
       "  <tbody>\n",
       "    <tr>\n",
       "      <th>0</th>\n",
       "      <td>2020/10/17 12:28:01 AM GMT+5:30</td>\n",
       "      <td>Raj Aryan Sharma</td>\n",
       "      <td>Comedy</td>\n",
       "      <td>Drama;Sci-Fi</td>\n",
       "      <td>Romance</td>\n",
       "      <td>Action;Crime And Thriller;Sci-Fi</td>\n",
       "      <td>Romance;Action;Comedy;Drama;Crime And Thriller...</td>\n",
       "      <td>Romance;Action;Comedy;Drama;Crime And Thriller...</td>\n",
       "      <td>Romance;Comedy;Drama</td>\n",
       "      <td>Romance;Action;Comedy;Drama;Crime And Thriller...</td>\n",
       "      <td>...</td>\n",
       "      <td>Action;Drama;Crime and Thriller;Sci-Fi</td>\n",
       "      <td>Romance;Comedy</td>\n",
       "      <td>Comedy</td>\n",
       "      <td>Drama;Romance;Crime And Thriller;Action</td>\n",
       "      <td>Drama;Romance;Comedy</td>\n",
       "      <td>Drama;Crime And Thriller;Action</td>\n",
       "      <td>Drama;Romance;Comedy;Crime And Thriller;Action...</td>\n",
       "      <td>Drama;Crime And Thriller;Action</td>\n",
       "      <td>Crime And Thriller;Action</td>\n",
       "      <td>10.0</td>\n",
       "    </tr>\n",
       "    <tr>\n",
       "      <th>1</th>\n",
       "      <td>2020/10/17 12:36:16 AM GMT+5:30</td>\n",
       "      <td>Punit Jain</td>\n",
       "      <td>Romance;Comedy;Drama</td>\n",
       "      <td>Comedy;Crime And Thriller;Documentary</td>\n",
       "      <td>Romance;Comedy;Drama;Sci-Fi</td>\n",
       "      <td>Romance;Comedy;Drama</td>\n",
       "      <td>Romance;Comedy;Drama;Crime And Thriller</td>\n",
       "      <td>Romance;Action;Comedy;Drama;Documentary</td>\n",
       "      <td>Romance;Comedy</td>\n",
       "      <td>Romance;Comedy;Drama</td>\n",
       "      <td>...</td>\n",
       "      <td>Action;Crime and Thriller;Documentary;Sci-Fi</td>\n",
       "      <td>Drama;Comedy</td>\n",
       "      <td>Romance;Action;Drama;Crime and Thriller;Comedy...</td>\n",
       "      <td>Drama;Romance;Comedy</td>\n",
       "      <td>Romance;Comedy</td>\n",
       "      <td>Crime And Thriller;Action</td>\n",
       "      <td>Drama;Romance;Comedy;Crime And Thriller;Action...</td>\n",
       "      <td>Drama;Comedy</td>\n",
       "      <td>Drama;Comedy;Crime And Thriller;Action;Sci-Fi</td>\n",
       "      <td>8.0</td>\n",
       "    </tr>\n",
       "    <tr>\n",
       "      <th>2</th>\n",
       "      <td>2020/10/17 12:48:16 AM GMT+5:30</td>\n",
       "      <td>Rajneesh</td>\n",
       "      <td>Comedy;Sci-Fi</td>\n",
       "      <td>Romance;Action</td>\n",
       "      <td>Drama</td>\n",
       "      <td>Romance;Crime And Thriller</td>\n",
       "      <td>Romance</td>\n",
       "      <td>Drama;Documentary</td>\n",
       "      <td>Comedy;Drama</td>\n",
       "      <td>Romance;Crime And Thriller</td>\n",
       "      <td>...</td>\n",
       "      <td>Crime and Thriller;Documentary</td>\n",
       "      <td>Crime and Thriller;Sci-Fi</td>\n",
       "      <td>Crime and Thriller;Sci-Fi</td>\n",
       "      <td>Comedy;Documentary</td>\n",
       "      <td>Romance;Action</td>\n",
       "      <td>Romance;Crime And Thriller</td>\n",
       "      <td>Crime And Thriller;Sci-Fi</td>\n",
       "      <td>Romance;Action</td>\n",
       "      <td>Drama;Documentary</td>\n",
       "      <td>7.0</td>\n",
       "    </tr>\n",
       "    <tr>\n",
       "      <th>3</th>\n",
       "      <td>2020/10/17 12:52:18 AM GMT+5:30</td>\n",
       "      <td>Avinash Jha</td>\n",
       "      <td>Comedy;Drama;Documentary</td>\n",
       "      <td>Comedy;Drama;Documentary</td>\n",
       "      <td>Action;Crime And Thriller;Sci-Fi</td>\n",
       "      <td>Action;Crime And Thriller;Sci-Fi</td>\n",
       "      <td>Action;Crime And Thriller;Sci-Fi</td>\n",
       "      <td>Comedy;Drama</td>\n",
       "      <td>Comedy;Drama</td>\n",
       "      <td>Action;Comedy;Crime And Thriller;Sci-Fi</td>\n",
       "      <td>...</td>\n",
       "      <td>Action;Crime and Thriller;Sci-Fi</td>\n",
       "      <td>Action;Drama;Crime and Thriller;Comedy;Documen...</td>\n",
       "      <td>Action;Drama;Crime and Thriller;Comedy;Documen...</td>\n",
       "      <td>Drama;Crime And Thriller;Action;Sci-Fi</td>\n",
       "      <td>Comedy</td>\n",
       "      <td>Drama;Comedy;Crime And Thriller;Action;Documen...</td>\n",
       "      <td>Drama;Comedy;Crime And Thriller;Action;Documen...</td>\n",
       "      <td>Drama;Action;Documentary;Sci-Fi</td>\n",
       "      <td>Drama;Comedy;Crime And Thriller;Action;Documen...</td>\n",
       "      <td>1.0</td>\n",
       "    </tr>\n",
       "    <tr>\n",
       "      <th>4</th>\n",
       "      <td>2020/10/17 1:31:30 AM GMT+5:30</td>\n",
       "      <td>Sankalp Singh Bisht</td>\n",
       "      <td>Comedy</td>\n",
       "      <td>Comedy;Drama;Sci-Fi</td>\n",
       "      <td>Comedy;Drama;Sci-Fi</td>\n",
       "      <td>Comedy</td>\n",
       "      <td>Romance;Comedy;Drama</td>\n",
       "      <td>Comedy;Drama;Sci-Fi</td>\n",
       "      <td>Comedy;Sci-Fi</td>\n",
       "      <td>Drama</td>\n",
       "      <td>...</td>\n",
       "      <td>Romance;Action;Crime and Thriller;Sci-Fi</td>\n",
       "      <td>Romance;Action;Sci-Fi</td>\n",
       "      <td>Drama;Comedy</td>\n",
       "      <td>Drama;Comedy</td>\n",
       "      <td>Romance;Comedy</td>\n",
       "      <td>Comedy</td>\n",
       "      <td>Drama;Comedy</td>\n",
       "      <td>Drama;Comedy;Crime And Thriller;Action;Documen...</td>\n",
       "      <td>Romance;Comedy</td>\n",
       "      <td>1.0</td>\n",
       "    </tr>\n",
       "  </tbody>\n",
       "</table>\n",
       "<p>5 rows × 22 columns</p>\n",
       "</div>"
      ],
      "text/plain": [
       "                         Timestamp                 Name  \\\n",
       "0  2020/10/17 12:28:01 AM GMT+5:30     Raj Aryan Sharma   \n",
       "1  2020/10/17 12:36:16 AM GMT+5:30           Punit Jain   \n",
       "2  2020/10/17 12:48:16 AM GMT+5:30            Rajneesh    \n",
       "3  2020/10/17 12:52:18 AM GMT+5:30          Avinash Jha   \n",
       "4   2020/10/17 1:31:30 AM GMT+5:30  Sankalp Singh Bisht   \n",
       "\n",
       "  Genre Preference in Morning  -: ( Choose all that apply )  \\\n",
       "0                                             Comedy          \n",
       "1                               Romance;Comedy;Drama          \n",
       "2                                      Comedy;Sci-Fi          \n",
       "3                           Comedy;Drama;Documentary          \n",
       "4                                             Comedy          \n",
       "\n",
       "  Genre Preference during Afternoon -: ( Choose all that apply )  \\\n",
       "0                                       Drama;Sci-Fi               \n",
       "1              Comedy;Crime And Thriller;Documentary               \n",
       "2                                     Romance;Action               \n",
       "3                           Comedy;Drama;Documentary               \n",
       "4                                Comedy;Drama;Sci-Fi               \n",
       "\n",
       "  Genre Preference in Evening -: ( Choose all that apply )  \\\n",
       "0                                            Romance         \n",
       "1                        Romance;Comedy;Drama;Sci-Fi         \n",
       "2                                              Drama         \n",
       "3                   Action;Crime And Thriller;Sci-Fi         \n",
       "4                                Comedy;Drama;Sci-Fi         \n",
       "\n",
       "  Genre Preference at Night -: ( Choose all that apply )  \\\n",
       "0                   Action;Crime And Thriller;Sci-Fi       \n",
       "1                               Romance;Comedy;Drama       \n",
       "2                         Romance;Crime And Thriller       \n",
       "3                   Action;Crime And Thriller;Sci-Fi       \n",
       "4                                             Comedy       \n",
       "\n",
       "  Genre Preference during Winter -: ( Choose all that apply )  \\\n",
       "0  Romance;Action;Comedy;Drama;Crime And Thriller...            \n",
       "1            Romance;Comedy;Drama;Crime And Thriller            \n",
       "2                                            Romance            \n",
       "3                   Action;Crime And Thriller;Sci-Fi            \n",
       "4                               Romance;Comedy;Drama            \n",
       "\n",
       "  Genre Preference during Summer  -: ( Choose all that apply )  \\\n",
       "0  Romance;Action;Comedy;Drama;Crime And Thriller...             \n",
       "1            Romance;Action;Comedy;Drama;Documentary             \n",
       "2                                  Drama;Documentary             \n",
       "3                                       Comedy;Drama             \n",
       "4                                Comedy;Drama;Sci-Fi             \n",
       "\n",
       "  Genre Preference during Rainy/Monsoon  -: ( Choose all that apply )  \\\n",
       "0                               Romance;Comedy;Drama                    \n",
       "1                                     Romance;Comedy                    \n",
       "2                                       Comedy;Drama                    \n",
       "3                                       Comedy;Drama                    \n",
       "4                                      Comedy;Sci-Fi                    \n",
       "\n",
       "  Genre Preference during Autumn  -: ( Choose all that apply )  ...  \\\n",
       "0  Romance;Action;Comedy;Drama;Crime And Thriller...            ...   \n",
       "1                               Romance;Comedy;Drama            ...   \n",
       "2                         Romance;Crime And Thriller            ...   \n",
       "3            Action;Comedy;Crime And Thriller;Sci-Fi            ...   \n",
       "4                                              Drama            ...   \n",
       "\n",
       "  Genre Preference when on Large Screen Device -: ( Choose all that apply )  \\\n",
       "0             Action;Drama;Crime and Thriller;Sci-Fi                          \n",
       "1       Action;Crime and Thriller;Documentary;Sci-Fi                          \n",
       "2                     Crime and Thriller;Documentary                          \n",
       "3                   Action;Crime and Thriller;Sci-Fi                          \n",
       "4           Romance;Action;Crime and Thriller;Sci-Fi                          \n",
       "\n",
       "  Genre Preference when on Tablet-Size Screen -: ( Choose all that apply )  \\\n",
       "0                                     Romance;Comedy                         \n",
       "1                                       Drama;Comedy                         \n",
       "2                          Crime and Thriller;Sci-Fi                         \n",
       "3  Action;Drama;Crime and Thriller;Comedy;Documen...                         \n",
       "4                              Romance;Action;Sci-Fi                         \n",
       "\n",
       "  Genre Preference when on Phone-Size Screen -: ( Choose all that apply )  \\\n",
       "0                                             Comedy                        \n",
       "1  Romance;Action;Drama;Crime and Thriller;Comedy...                        \n",
       "2                          Crime and Thriller;Sci-Fi                        \n",
       "3  Action;Drama;Crime and Thriller;Comedy;Documen...                        \n",
       "4                                       Drama;Comedy                        \n",
       "\n",
       "  Movie Genre when you are Happy  -: ( Choose all that apply )  \\\n",
       "0            Drama;Romance;Crime And Thriller;Action             \n",
       "1                               Drama;Romance;Comedy             \n",
       "2                                 Comedy;Documentary             \n",
       "3             Drama;Crime And Thriller;Action;Sci-Fi             \n",
       "4                                       Drama;Comedy             \n",
       "\n",
       "  Movie Genre when you are Sad -: ( Choose all that apply )  \\\n",
       "0                               Drama;Romance;Comedy          \n",
       "1                                     Romance;Comedy          \n",
       "2                                     Romance;Action          \n",
       "3                                             Comedy          \n",
       "4                                     Romance;Comedy          \n",
       "\n",
       "  Movie Genre when you are Angry -: ( Choose all that apply )  \\\n",
       "0                    Drama;Crime And Thriller;Action            \n",
       "1                          Crime And Thriller;Action            \n",
       "2                         Romance;Crime And Thriller            \n",
       "3  Drama;Comedy;Crime And Thriller;Action;Documen...            \n",
       "4                                             Comedy            \n",
       "\n",
       "  Movie Genre when you are Normal -: ( Choose all that apply )  \\\n",
       "0  Drama;Romance;Comedy;Crime And Thriller;Action...             \n",
       "1  Drama;Romance;Comedy;Crime And Thriller;Action...             \n",
       "2                          Crime And Thriller;Sci-Fi             \n",
       "3  Drama;Comedy;Crime And Thriller;Action;Documen...             \n",
       "4                                       Drama;Comedy             \n",
       "\n",
       "  Genre Preference when watching with Family -: ( Choose all that apply )  \\\n",
       "0                    Drama;Crime And Thriller;Action                        \n",
       "1                                       Drama;Comedy                        \n",
       "2                                     Romance;Action                        \n",
       "3                    Drama;Action;Documentary;Sci-Fi                        \n",
       "4  Drama;Comedy;Crime And Thriller;Action;Documen...                        \n",
       "\n",
       "  Genre Preference when watching with Friends -: ( Choose all that apply )  \\\n",
       "0                          Crime And Thriller;Action                         \n",
       "1      Drama;Comedy;Crime And Thriller;Action;Sci-Fi                         \n",
       "2                                  Drama;Documentary                         \n",
       "3  Drama;Comedy;Crime And Thriller;Action;Documen...                         \n",
       "4                                     Romance;Comedy                         \n",
       "\n",
       "  Would you like to get recommended Holiday Theme Movies On Holidays (Ex : Border on Independence Day and Dangal /Marry Kom on Women's Day) -:  \n",
       "0                                               10.0                                                                                            \n",
       "1                                                8.0                                                                                            \n",
       "2                                                7.0                                                                                            \n",
       "3                                                1.0                                                                                            \n",
       "4                                                1.0                                                                                            \n",
       "\n",
       "[5 rows x 22 columns]"
      ]
     },
     "execution_count": 2,
     "metadata": {},
     "output_type": "execute_result"
    }
   ],
   "source": [
    "data=pd.read_csv('ContextualRecommendationFormResult.csv')\n",
    "genre={\"Comedy\":0,\"Romance\":0,\"Drama\":0,\"Sci-Fi\":0,\"Action\":0,\"Crime And Thriller\":0,\"Documentary\":0}\n",
    "print(data.shape)\n",
    "data.head()"
   ]
  },
  {
   "cell_type": "code",
   "execution_count": 3,
   "metadata": {},
   "outputs": [],
   "source": [
    "import pandas as pd\n",
    "import matplotlib.pyplot as plt\n",
    "import seaborn as sns\n",
    "#define Seaborn color palette to use\n",
    "colors = sns.color_palette('pastel')[0:5]"
   ]
  },
  {
   "cell_type": "code",
   "execution_count": 4,
   "metadata": {},
   "outputs": [],
   "source": [
    "import pandas as pd\n",
    "import matplotlib.pyplot as plt\n",
    "import seaborn as sns\n",
    "#define Seaborn color palette to use\n",
    "colors = sns.color_palette('pastel')[0:5]"
   ]
  },
  {
   "cell_type": "code",
   "execution_count": 5,
   "metadata": {},
   "outputs": [
    {
     "data": {
      "text/plain": [
       "Timestamp                                                                                                                                       0\n",
       "Name                                                                                                                                            1\n",
       "Genre Preference in Morning  -: ( Choose all that apply )                                                                                       0\n",
       "Genre Preference during Afternoon -: ( Choose all that apply )                                                                                  0\n",
       "Genre Preference in Evening -: ( Choose all that apply )                                                                                        0\n",
       "Genre Preference at Night -: ( Choose all that apply )                                                                                          0\n",
       "Genre Preference during Winter -: ( Choose all that apply )                                                                                     0\n",
       "Genre Preference during Summer  -: ( Choose all that apply )                                                                                    0\n",
       "Genre Preference during Rainy/Monsoon  -: ( Choose all that apply )                                                                             0\n",
       "Genre Preference during Autumn  -: ( Choose all that apply )                                                                                    0\n",
       "Genre Preference on Weekend -: ( Choose all that apply )                                                                                        0\n",
       "Genre Preference on Weekdays -: ( Choose all that apply )                                                                                       0\n",
       "Genre Preference when on Large Screen Device -: ( Choose all that apply )                                                                       1\n",
       "Genre Preference when on Tablet-Size Screen -: ( Choose all that apply )                                                                        4\n",
       "Genre Preference when on Phone-Size Screen -: ( Choose all that apply )                                                                         5\n",
       "Movie Genre when you are Happy  -: ( Choose all that apply )                                                                                    3\n",
       "Movie Genre when you are Sad -: ( Choose all that apply )                                                                                       2\n",
       "Movie Genre when you are Angry -: ( Choose all that apply )                                                                                     1\n",
       "Movie Genre when you are Normal -: ( Choose all that apply )                                                                                    2\n",
       "Genre Preference when watching with Family -: ( Choose all that apply )                                                                         1\n",
       "Genre Preference when watching with Friends -: ( Choose all that apply )                                                                        2\n",
       "Would you like to get recommended Holiday Theme Movies On Holidays (Ex : Border on Independence Day and Dangal /Marry Kom on Women's Day) -:    1\n",
       "dtype: int64"
      ]
     },
     "execution_count": 5,
     "metadata": {},
     "output_type": "execute_result"
    }
   ],
   "source": [
    "data.isna().sum()"
   ]
  },
  {
   "cell_type": "code",
   "execution_count": 6,
   "metadata": {},
   "outputs": [
    {
     "name": "stdout",
     "output_type": "stream",
     "text": [
      "(62, 22)\n"
     ]
    },
    {
     "data": {
      "text/plain": [
       "Timestamp                                                                                                                                       0\n",
       "Name                                                                                                                                            0\n",
       "Genre Preference in Morning  -: ( Choose all that apply )                                                                                       0\n",
       "Genre Preference during Afternoon -: ( Choose all that apply )                                                                                  0\n",
       "Genre Preference in Evening -: ( Choose all that apply )                                                                                        0\n",
       "Genre Preference at Night -: ( Choose all that apply )                                                                                          0\n",
       "Genre Preference during Winter -: ( Choose all that apply )                                                                                     0\n",
       "Genre Preference during Summer  -: ( Choose all that apply )                                                                                    0\n",
       "Genre Preference during Rainy/Monsoon  -: ( Choose all that apply )                                                                             0\n",
       "Genre Preference during Autumn  -: ( Choose all that apply )                                                                                    0\n",
       "Genre Preference on Weekend -: ( Choose all that apply )                                                                                        0\n",
       "Genre Preference on Weekdays -: ( Choose all that apply )                                                                                       0\n",
       "Genre Preference when on Large Screen Device -: ( Choose all that apply )                                                                       0\n",
       "Genre Preference when on Tablet-Size Screen -: ( Choose all that apply )                                                                        0\n",
       "Genre Preference when on Phone-Size Screen -: ( Choose all that apply )                                                                         0\n",
       "Movie Genre when you are Happy  -: ( Choose all that apply )                                                                                    0\n",
       "Movie Genre when you are Sad -: ( Choose all that apply )                                                                                       0\n",
       "Movie Genre when you are Angry -: ( Choose all that apply )                                                                                     0\n",
       "Movie Genre when you are Normal -: ( Choose all that apply )                                                                                    0\n",
       "Genre Preference when watching with Family -: ( Choose all that apply )                                                                         0\n",
       "Genre Preference when watching with Friends -: ( Choose all that apply )                                                                        0\n",
       "Would you like to get recommended Holiday Theme Movies On Holidays (Ex : Border on Independence Day and Dangal /Marry Kom on Women's Day) -:    0\n",
       "dtype: int64"
      ]
     },
     "execution_count": 6,
     "metadata": {},
     "output_type": "execute_result"
    }
   ],
   "source": [
    "data.dropna(inplace=True)\n",
    "print(data.shape)\n",
    "data.isna().sum()"
   ]
  },
  {
   "cell_type": "markdown",
   "metadata": {},
   "source": [
    "# Genre preference in morning"
   ]
  },
  {
   "cell_type": "code",
   "execution_count": 7,
   "metadata": {},
   "outputs": [
    {
     "data": {
      "image/png": "[encoded data removed]",
      "text/plain": [
       "<Figure size 432x288 with 1 Axes>"
      ]
     },
     "metadata": {},
     "output_type": "display_data"
    },
    {
     "name": "stdout",
     "output_type": "stream",
     "text": [
      "{'Comedy': 40, 'Romance': 15, 'Drama': 16, 'Sci-Fi': 18, 'Action': 13, 'Crime And Thriller': 11, 'Documentary': 13}\n"
     ]
    }
   ],
   "source": [
    "genre_morning={\"Comedy\":0,\"Romance\":0,\"Drama\":0,\"Sci-Fi\":0,\"Action\":0,\"Crime And Thriller\":0,\"Documentary\":0}\n",
    "for i,j in data.iterrows():\n",
    "    for k in j[2].split(\";\"):\n",
    "        genre_morning[k]=genre_morning[k]+1\n",
    "    \n",
    "#create pie chart\n",
    "fig = plt.figure()\n",
    "fig.patch.set_facecolor('white')\n",
    "plt.pie(genre_morning.values(),labels=genre_morning.keys(), colors = colors, autopct='%.0f%%')\n",
    "plt.show()\n",
    "print(genre_morning)"
   ]
  },
  {
   "cell_type": "markdown",
   "metadata": {},
   "source": [
    "# Genre preference during afternoon"
   ]
  },
  {
   "cell_type": "code",
   "execution_count": 8,
   "metadata": {},
   "outputs": [
    {
     "data": {
      "image/png": "[encoded data removed]",
      "text/plain": [
       "<Figure size 432x288 with 1 Axes>"
      ]
     },
     "metadata": {},
     "output_type": "display_data"
    },
    {
     "name": "stdout",
     "output_type": "stream",
     "text": [
      "{'Comedy': 29, 'Romance': 12, 'Drama': 22, 'Sci-Fi': 22, 'Action': 26, 'Crime And Thriller': 31, 'Documentary': 13}\n"
     ]
    }
   ],
   "source": [
    "genre_afternoon={\"Comedy\":0,\"Romance\":0,\"Drama\":0,\"Sci-Fi\":0,\"Action\":0,\"Crime And Thriller\":0,\"Documentary\":0}\n",
    "for i,j in data.iterrows():\n",
    "    for k in j[3].split(\";\"):\n",
    "        genre_afternoon[k]=genre_afternoon[k]+1\n",
    "    \n",
    "#create pie chart\n",
    "fig = plt.figure()\n",
    "fig.patch.set_facecolor('white')\n",
    "plt.pie(genre_afternoon.values(),labels=genre_afternoon.keys(), colors = colors, autopct='%.0f%%')\n",
    "plt.show()\n",
    "print(genre_afternoon)"
   ]
  },
  {
   "cell_type": "markdown",
   "metadata": {},
   "source": [
    "## Genre preference in evening"
   ]
  },
  {
   "cell_type": "code",
   "execution_count": 9,
   "metadata": {},
   "outputs": [
    {
     "data": {
      "image/png": "[encoded data removed]",
      "text/plain": [
       "<Figure size 432x288 with 1 Axes>"
      ]
     },
     "metadata": {},
     "output_type": "display_data"
    },
    {
     "name": "stdout",
     "output_type": "stream",
     "text": [
      "{'Comedy': 30, 'Romance': 24, 'Drama': 17, 'Sci-Fi': 20, 'Action': 21, 'Crime And Thriller': 24, 'Documentary': 14}\n"
     ]
    }
   ],
   "source": [
    "genre_evening={\"Comedy\":0,\"Romance\":0,\"Drama\":0,\"Sci-Fi\":0,\"Action\":0,\"Crime And Thriller\":0,\"Documentary\":0}\n",
    "for i,j in data.iterrows():\n",
    "    for k in j[4].split(\";\"):\n",
    "        genre_evening[k]=genre_evening[k]+1\n",
    "    \n",
    "#create pie chart\n",
    "fig = plt.figure()\n",
    "fig.patch.set_facecolor('white')\n",
    "plt.pie(genre_evening.values(),labels=genre_evening.keys(), colors = colors, autopct='%.0f%%')\n",
    "plt.show()\n",
    "print(genre_evening)"
   ]
  },
  {
   "cell_type": "markdown",
   "metadata": {},
   "source": [
    "## Genre preference at night"
   ]
  },
  {
   "cell_type": "code",
   "execution_count": 10,
   "metadata": {},
   "outputs": [
    {
     "data": {
      "image/png": "[encoded data removed]",
      "text/plain": [
       "<Figure size 432x288 with 1 Axes>"
      ]
     },
     "metadata": {},
     "output_type": "display_data"
    },
    {
     "name": "stdout",
     "output_type": "stream",
     "text": [
      "{'Comedy': 24, 'Romance': 34, 'Drama': 20, 'Sci-Fi': 23, 'Action': 20, 'Crime And Thriller': 33, 'Documentary': 17}\n"
     ]
    }
   ],
   "source": [
    "genre_night={\"Comedy\":0,\"Romance\":0,\"Drama\":0,\"Sci-Fi\":0,\"Action\":0,\"Crime And Thriller\":0,\"Documentary\":0}\n",
    "for i,j in data.iterrows():\n",
    "    for k in j[5].split(\";\"):\n",
    "        genre_night[k]=genre_night[k]+1\n",
    "    \n",
    "#create pie chart\n",
    "fig = plt.figure()\n",
    "fig.patch.set_facecolor('white')\n",
    "plt.pie(genre_night.values(),labels=genre_night.keys(), colors = colors, autopct='%.0f%%')\n",
    "plt.show()\n",
    "print(genre_night)"
   ]
  },
  {
   "cell_type": "markdown",
   "metadata": {},
   "source": [
    "## Genre Preference during Winter"
   ]
  },
  {
   "cell_type": "code",
   "execution_count": 11,
   "metadata": {},
   "outputs": [
    {
     "data": {
      "image/png": "[encoded data removed]",
      "text/plain": [
       "<Figure size 432x288 with 1 Axes>"
      ]
     },
     "metadata": {},
     "output_type": "display_data"
    },
    {
     "name": "stdout",
     "output_type": "stream",
     "text": [
      "{'Comedy': 31, 'Romance': 33, 'Drama': 26, 'Sci-Fi': 18, 'Action': 26, 'Crime And Thriller': 29, 'Documentary': 10}\n"
     ]
    }
   ],
   "source": [
    "genre_winter={\"Comedy\":0,\"Romance\":0,\"Drama\":0,\"Sci-Fi\":0,\"Action\":0,\"Crime And Thriller\":0,\"Documentary\":0}\n",
    "for i,j in data.iterrows():\n",
    "    for k in j[6].split(\";\"):\n",
    "        genre_winter[k]=genre_winter[k]+1\n",
    "        \n",
    "#create pie chart\n",
    "fig = plt.figure()\n",
    "fig.patch.set_facecolor('white')\n",
    "plt.pie(genre_winter.values(),labels=genre_winter.keys(), colors = colors, autopct='%.0f%%')\n",
    "plt.show()\n",
    "print(genre_winter)"
   ]
  },
  {
   "cell_type": "markdown",
   "metadata": {},
   "source": [
    "# Genre Preference during Summer"
   ]
  },
  {
   "cell_type": "code",
   "execution_count": 12,
   "metadata": {},
   "outputs": [
    {
     "data": {
      "image/png": "[encoded data removed]",
      "text/plain": [
       "<Figure size 432x288 with 1 Axes>"
      ]
     },
     "metadata": {},
     "output_type": "display_data"
    },
    {
     "name": "stdout",
     "output_type": "stream",
     "text": [
      "{'Comedy': 35, 'Romance': 18, 'Drama': 31, 'Sci-Fi': 27, 'Action': 29, 'Crime And Thriller': 35, 'Documentary': 14}\n"
     ]
    }
   ],
   "source": [
    "genre_summer={\"Comedy\":0,\"Romance\":0,\"Drama\":0,\"Sci-Fi\":0,\"Action\":0,\"Crime And Thriller\":0,\"Documentary\":0}\n",
    "for i,j in data.iterrows():\n",
    "    for k in j[7].split(\";\"):\n",
    "        genre_summer[k]=genre_summer[k]+1\n",
    "        \n",
    "#create pie chart\n",
    "fig = plt.figure()\n",
    "fig.patch.set_facecolor('white')\n",
    "plt.pie(genre_summer.values(),labels=genre_summer.keys(), colors = colors, autopct='%.0f%%')\n",
    "plt.show()\n",
    "print(genre_summer)"
   ]
  },
  {
   "cell_type": "markdown",
   "metadata": {},
   "source": [
    "## Genre Preference during Rainy/Monsoon"
   ]
  },
  {
   "cell_type": "code",
   "execution_count": 13,
   "metadata": {},
   "outputs": [
    {
     "data": {
      "image/png": "[encoded data removed]",
      "text/plain": [
       "<Figure size 432x288 with 1 Axes>"
      ]
     },
     "metadata": {},
     "output_type": "display_data"
    },
    {
     "name": "stdout",
     "output_type": "stream",
     "text": [
      "{'Comedy': 32, 'Romance': 35, 'Drama': 28, 'Sci-Fi': 18, 'Action': 16, 'Crime And Thriller': 24, 'Documentary': 7}\n"
     ]
    }
   ],
   "source": [
    "genre_rainy={\"Comedy\":0,\"Romance\":0,\"Drama\":0,\"Sci-Fi\":0,\"Action\":0,\"Crime And Thriller\":0,\"Documentary\":0}\n",
    "for i,j in data.iterrows():\n",
    "    for k in j[8].split(\";\"):\n",
    "        genre_rainy[k]=genre_rainy[k]+1\n",
    "        \n",
    "#create pie chart\n",
    "fig = plt.figure()\n",
    "fig.patch.set_facecolor('white')\n",
    "plt.pie(genre_rainy.values(),labels=genre_rainy.keys(), colors = colors, autopct='%.0f%%')\n",
    "plt.show()\n",
    "print(genre_rainy)"
   ]
  },
  {
   "cell_type": "markdown",
   "metadata": {},
   "source": [
    "# Genre Preference during Autumn"
   ]
  },
  {
   "cell_type": "code",
   "execution_count": 14,
   "metadata": {},
   "outputs": [
    {
     "data": {
      "image/png": "[encoded data removed]",
      "text/plain": [
       "<Figure size 432x288 with 1 Axes>"
      ]
     },
     "metadata": {},
     "output_type": "display_data"
    },
    {
     "name": "stdout",
     "output_type": "stream",
     "text": [
      "{'Comedy': 30, 'Romance': 25, 'Drama': 27, 'Sci-Fi': 26, 'Action': 21, 'Crime And Thriller': 31, 'Documentary': 18}\n"
     ]
    }
   ],
   "source": [
    "genre_autumn={\"Comedy\":0,\"Romance\":0,\"Drama\":0,\"Sci-Fi\":0,\"Action\":0,\"Crime And Thriller\":0,\"Documentary\":0}\n",
    "for i,j in data.iterrows():\n",
    "    for k in j[9].split(\";\"):\n",
    "        genre_autumn[k]=genre_autumn[k]+1\n",
    "        \n",
    "#create pie chart\n",
    "fig = plt.figure()\n",
    "fig.patch.set_facecolor('white')\n",
    "plt.pie(genre_autumn.values(),labels=genre_autumn.keys(), colors = colors, autopct='%.0f%%')\n",
    "plt.show()\n",
    "print(genre_autumn)"
   ]
  },
  {
   "cell_type": "markdown",
   "metadata": {},
   "source": [
    "# Genre Preference when on Large Screen Device"
   ]
  },
  {
   "cell_type": "code",
   "execution_count": 15,
   "metadata": {},
   "outputs": [
    {
     "data": {
      "image/png": "[encoded data removed]",
      "text/plain": [
       "<Figure size 432x288 with 1 Axes>"
      ]
     },
     "metadata": {},
     "output_type": "display_data"
    },
    {
     "name": "stdout",
     "output_type": "stream",
     "text": [
      "{'Comedy': 32, 'Romance': 24, 'Drama': 21, 'Sci-Fi': 23, 'Action': 28, 'Crime and Thriller': 41, 'Documentary': 14}\n"
     ]
    }
   ],
   "source": [
    "genre_large_screen={\"Comedy\":0,\"Romance\":0,\"Drama\":0,\"Sci-Fi\":0,\"Action\":0,\"Crime and Thriller\":0,\"Documentary\":0}\n",
    "for i,j in data.iterrows():\n",
    "    for k in j[10].split(\";\"):\n",
    "        genre_large_screen[k]=genre_large_screen[k]+1\n",
    "        \n",
    "#create pie chart\n",
    "fig = plt.figure()\n",
    "fig.patch.set_facecolor('white')\n",
    "plt.pie(genre_large_screen.values(),labels=genre_large_screen.keys(), colors = colors, autopct='%.0f%%')\n",
    "plt.show()\n",
    "print(genre_large_screen)"
   ]
  },
  {
   "cell_type": "markdown",
   "metadata": {},
   "source": [
    "# Genre Preference when on Tablet-Size Screen"
   ]
  },
  {
   "cell_type": "code",
   "execution_count": 16,
   "metadata": {},
   "outputs": [
    {
     "data": {
      "image/png": "[encoded data removed]",
      "text/plain": [
       "<Figure size 432x288 with 1 Axes>"
      ]
     },
     "metadata": {},
     "output_type": "display_data"
    },
    {
     "name": "stdout",
     "output_type": "stream",
     "text": [
      "{'Comedy': 31, 'Romance': 22, 'Drama': 19, 'Sci-Fi': 21, 'Action': 18, 'Crime and Thriller': 29, 'Documentary': 10}\n"
     ]
    }
   ],
   "source": [
    "genre_tablet_screen={\"Comedy\":0,\"Romance\":0,\"Drama\":0,\"Sci-Fi\":0,\"Action\":0,\"Crime and Thriller\":0,\"Documentary\":0}\n",
    "for i,j in data.iterrows():\n",
    "    for k in j[11].split(\";\"):\n",
    "        genre_tablet_screen[k]=genre_tablet_screen[k]+1\n",
    "        \n",
    "#create pie chart\n",
    "fig = plt.figure()\n",
    "fig.patch.set_facecolor('white')\n",
    "plt.pie(genre_tablet_screen.values(),labels=genre_tablet_screen.keys(), colors = colors, autopct='%.0f%%')\n",
    "plt.show()\n",
    "print(genre_tablet_screen)"
   ]
  },
  {
   "cell_type": "markdown",
   "metadata": {},
   "source": [
    "# Genre Preference when on Phone-Size Screen"
   ]
  },
  {
   "cell_type": "code",
   "execution_count": 17,
   "metadata": {},
   "outputs": [
    {
     "data": {
      "image/png": "[encoded data removed]",
      "text/plain": [
       "<Figure size 432x288 with 1 Axes>"
      ]
     },
     "metadata": {},
     "output_type": "display_data"
    },
    {
     "name": "stdout",
     "output_type": "stream",
     "text": [
      "{'Comedy': 13, 'Romance': 20, 'Drama': 16, 'Sci-Fi': 34, 'Action': 36, 'Crime and Thriller': 40, 'Documentary': 9}\n"
     ]
    }
   ],
   "source": [
    "genre_phone_screen={\"Comedy\":0,\"Romance\":0,\"Drama\":0,\"Sci-Fi\":0,\"Action\":0,\"Crime and Thriller\":0,\"Documentary\":0}\n",
    "for i,j in data.iterrows():\n",
    "    for k in j[12].split(\";\"):\n",
    "        genre_phone_screen[k]=genre_phone_screen[k]+1\n",
    "        \n",
    "#create pie chart\n",
    "fig = plt.figure()\n",
    "fig.patch.set_facecolor('white')\n",
    "plt.pie(genre_phone_screen.values(),labels=genre_phone_screen.keys(), colors = colors, autopct='%.0f%%')\n",
    "plt.show()\n",
    "print(genre_phone_screen)"
   ]
  },
  {
   "cell_type": "markdown",
   "metadata": {},
   "source": [
    "## Genre Preference when you are happy"
   ]
  },
  {
   "cell_type": "code",
   "execution_count": 18,
   "metadata": {},
   "outputs": [
    {
     "data": {
      "image/png": "[encoded data removed]",
      "text/plain": [
       "<Figure size 432x288 with 1 Axes>"
      ]
     },
     "metadata": {},
     "output_type": "display_data"
    },
    {
     "name": "stdout",
     "output_type": "stream",
     "text": [
      "{'Comedy': 26, 'Romance': 20, 'Drama': 26, 'Sci-Fi': 20, 'Action': 22, 'Crime and Thriller': 25, 'Documentary': 12}\n"
     ]
    }
   ],
   "source": [
    "genre_happy={\"Comedy\":0,\"Romance\":0,\"Drama\":0,\"Sci-Fi\":0,\"Action\":0,\"Crime and Thriller\":0,\"Documentary\":0}\n",
    "for i,j in data.iterrows():\n",
    "    for k in j[13].split(\";\"):\n",
    "        genre_happy[k]=genre_happy[k]+1\n",
    "        \n",
    "#create pie chart\n",
    "fig = plt.figure()\n",
    "fig.patch.set_facecolor('white')\n",
    "plt.pie(genre_happy.values(),labels=genre_happy.keys(), colors = colors, autopct='%.0f%%')\n",
    "plt.show()\n",
    "print(genre_happy)"
   ]
  },
  {
   "cell_type": "markdown",
   "metadata": {},
   "source": [
    "## Movie Genre when you are Sad"
   ]
  },
  {
   "cell_type": "code",
   "execution_count": 19,
   "metadata": {},
   "outputs": [
    {
     "data": {
      "image/png": "[encoded data removed]",
      "text/plain": [
       "<Figure size 432x288 with 1 Axes>"
      ]
     },
     "metadata": {},
     "output_type": "display_data"
    },
    {
     "name": "stdout",
     "output_type": "stream",
     "text": [
      "{'Comedy': 41, 'Romance': 23, 'Drama': 26, 'Sci-Fi': 13, 'Action': 15, 'Crime and Thriller': 23, 'Documentary': 13}\n"
     ]
    }
   ],
   "source": [
    "genre_sad={\"Comedy\":0,\"Romance\":0,\"Drama\":0,\"Sci-Fi\":0,\"Action\":0,\"Crime and Thriller\":0,\"Documentary\":0}\n",
    "for i,j in data.iterrows():\n",
    "    for k in j[14].split(\";\"):\n",
    "        genre_sad[k]=genre_sad[k]+1\n",
    "        \n",
    "#create pie chart\n",
    "fig = plt.figure()\n",
    "fig.patch.set_facecolor('white')\n",
    "plt.pie(genre_sad.values(),labels=genre_sad.keys(), colors = colors, autopct='%.0f%%')\n",
    "plt.show()\n",
    "print(genre_sad)"
   ]
  },
  {
   "cell_type": "markdown",
   "metadata": {},
   "source": [
    "## Movie Genre when you are Angry"
   ]
  },
  {
   "cell_type": "code",
   "execution_count": 20,
   "metadata": {},
   "outputs": [
    {
     "data": {
      "image/png": "[encoded data removed]",
      "text/plain": [
       "<Figure size 432x288 with 1 Axes>"
      ]
     },
     "metadata": {},
     "output_type": "display_data"
    },
    {
     "name": "stdout",
     "output_type": "stream",
     "text": [
      "{'Comedy': 41, 'Romance': 32, 'Drama': 23, 'Sci-Fi': 15, 'Action': 14, 'Crime And Thriller': 25, 'Documentary': 7}\n"
     ]
    }
   ],
   "source": [
    "genre_angry={\"Comedy\":0,\"Romance\":0,\"Drama\":0,\"Sci-Fi\":0,\"Action\":0,\"Crime And Thriller\":0,\"Documentary\":0}\n",
    "for i,j in data.iterrows():\n",
    "    for k in j[15].split(\";\"):\n",
    "        genre_angry[k]=genre_angry[k]+1\n",
    "        \n",
    "#create pie chart\n",
    "fig = plt.figure()\n",
    "fig.patch.set_facecolor('white')\n",
    "plt.pie(genre_angry.values(),labels=genre_angry.keys(), colors = colors, autopct='%.0f%%')\n",
    "plt.show()\n",
    "print(genre_angry)"
   ]
  },
  {
   "cell_type": "markdown",
   "metadata": {},
   "source": [
    "## Movie Genre when you are Normal"
   ]
  },
  {
   "cell_type": "code",
   "execution_count": 21,
   "metadata": {},
   "outputs": [
    {
     "data": {
      "image/png": "[encoded data removed]",
      "text/plain": [
       "<Figure size 432x288 with 1 Axes>"
      ]
     },
     "metadata": {},
     "output_type": "display_data"
    },
    {
     "name": "stdout",
     "output_type": "stream",
     "text": [
      "{'Comedy': 30, 'Romance': 16, 'Drama': 16, 'Sci-Fi': 15, 'Action': 16, 'Crime And Thriller': 21, 'Documentary': 11}\n"
     ]
    }
   ],
   "source": [
    "genre_normal={\"Comedy\":0,\"Romance\":0,\"Drama\":0,\"Sci-Fi\":0,\"Action\":0,\"Crime And Thriller\":0,\"Documentary\":0}\n",
    "for i,j in data.iterrows():\n",
    "    for k in j[16].split(\";\"):\n",
    "        genre_normal[k]=genre_normal[k]+1\n",
    "        \n",
    "#create pie chart\n",
    "fig = plt.figure()\n",
    "fig.patch.set_facecolor('white')\n",
    "plt.pie(genre_normal.values(),labels=genre_normal.keys(), colors = colors, autopct='%.0f%%')\n",
    "plt.show()\n",
    "print(genre_normal)"
   ]
  },
  {
   "cell_type": "markdown",
   "metadata": {},
   "source": [
    "## Genre Preference when watching with Friends"
   ]
  },
  {
   "cell_type": "code",
   "execution_count": 22,
   "metadata": {},
   "outputs": [
    {
     "data": {
      "image/png": "[encoded data removed]",
      "text/plain": [
       "<Figure size 432x288 with 1 Axes>"
      ]
     },
     "metadata": {},
     "output_type": "display_data"
    },
    {
     "name": "stdout",
     "output_type": "stream",
     "text": [
      "{'Comedy': 21, 'Romance': 11, 'Drama': 14, 'Sci-Fi': 19, 'Action': 28, 'Crime And Thriller': 26, 'Documentary': 11}\n"
     ]
    }
   ],
   "source": [
    "genre_with_friends={\"Comedy\":0,\"Romance\":0,\"Drama\":0,\"Sci-Fi\":0,\"Action\":0,\"Crime And Thriller\":0,\"Documentary\":0}\n",
    "for i,j in data.iterrows():\n",
    "    for k in j[17].split(\";\"):\n",
    "        genre_with_friends[k]=genre_with_friends[k]+1\n",
    "        \n",
    "#create pie chart\n",
    "fig = plt.figure()\n",
    "fig.patch.set_facecolor('white')\n",
    "plt.pie(genre_with_friends.values(),labels=genre_with_friends.keys(), colors = colors, autopct='%.0f%%')\n",
    "plt.show()\n",
    "print(genre_with_friends)"
   ]
  },
  {
   "cell_type": "markdown",
   "metadata": {},
   "source": [
    "## Genre Preference when watching with Family"
   ]
  },
  {
   "cell_type": "code",
   "execution_count": 23,
   "metadata": {},
   "outputs": [
    {
     "data": {
      "image/png": "[encoded data removed]",
      "text/plain": [
       "<Figure size 432x288 with 1 Axes>"
      ]
     },
     "metadata": {},
     "output_type": "display_data"
    },
    {
     "name": "stdout",
     "output_type": "stream",
     "text": [
      "{'Comedy': 31, 'Romance': 29, 'Drama': 28, 'Sci-Fi': 31, 'Action': 30, 'Crime And Thriller': 39, 'Documentary': 17}\n"
     ]
    }
   ],
   "source": [
    "genre_with_family={\"Comedy\":0,\"Romance\":0,\"Drama\":0,\"Sci-Fi\":0,\"Action\":0,\"Crime And Thriller\":0,\"Documentary\":0}\n",
    "for i,j in data.iterrows():\n",
    "    for k in j[18].split(\";\"):\n",
    "        genre_with_family[k]=genre_with_family[k]+1\n",
    "        \n",
    "#create pie chart\n",
    "fig = plt.figure()\n",
    "fig.patch.set_facecolor('white')\n",
    "plt.pie(genre_with_family.values(),labels=genre_with_family.keys(), colors = colors, autopct='%.0f%%')\n",
    "plt.show()\n",
    "print(genre_with_family)"
   ]
  },
  {
   "cell_type": "code",
   "execution_count": 24,
   "metadata": {
    "pycharm": {
     "name": "#%% Import File\n"
    },
    "tags": []
   },
   "outputs": [],
   "source": [
    "import numpy as np\n",
    "import pandas as pd\n",
    "from sklearn.feature_extraction.text import TfidfVectorizer\n",
    "from sklearn.metrics.pairwise import linear_kernel\n",
    "from surprise import Reader, Dataset, SVD\n",
    "from surprise.model_selection import KFold\n",
    "from surprise.model_selection.validation import cross_validate\n",
    "import copy\n",
    "from datetime import datetime"
   ]
  },
  {
   "cell_type": "code",
   "execution_count": 25,
   "metadata": {
    "collapsed": false,
    "jupyter": {
     "outputs_hidden": false
    },
    "pycharm": {
     "name": "#%%\n"
    }
   },
   "outputs": [
    {
     "data": {
      "text/html": [
       "<div>\n",
       "<style scoped>\n",
       "    .dataframe tbody tr th:only-of-type {\n",
       "        vertical-align: middle;\n",
       "    }\n",
       "\n",
       "    .dataframe tbody tr th {\n",
       "        vertical-align: top;\n",
       "    }\n",
       "\n",
       "    .dataframe thead th {\n",
       "        text-align: right;\n",
       "    }\n",
       "</style>\n",
       "<table border=\"1\" class=\"dataframe\">\n",
       "  <thead>\n",
       "    <tr style=\"text-align: right;\">\n",
       "      <th></th>\n",
       "      <th>Unnamed: 0</th>\n",
       "      <th>adult</th>\n",
       "      <th>belongs_to_collection</th>\n",
       "      <th>budget</th>\n",
       "      <th>genres</th>\n",
       "      <th>homepage</th>\n",
       "      <th>id</th>\n",
       "      <th>imdb_id</th>\n",
       "      <th>original_language</th>\n",
       "      <th>original_title</th>\n",
       "      <th>...</th>\n",
       "      <th>release_date</th>\n",
       "      <th>revenue</th>\n",
       "      <th>runtime</th>\n",
       "      <th>spoken_languages</th>\n",
       "      <th>status</th>\n",
       "      <th>tagline</th>\n",
       "      <th>title</th>\n",
       "      <th>video</th>\n",
       "      <th>vote_average</th>\n",
       "      <th>vote_count</th>\n",
       "    </tr>\n",
       "  </thead>\n",
       "  <tbody>\n",
       "    <tr>\n",
       "      <th>0</th>\n",
       "      <td>0</td>\n",
       "      <td>False</td>\n",
       "      <td>{'id': 10194, 'name': 'Toy Story Collection', ...</td>\n",
       "      <td>30000000</td>\n",
       "      <td>[{'id': 16, 'name': 'Animation'}, {'id': 35, '...</td>\n",
       "      <td>http://toystory.disney.com/toy-story</td>\n",
       "      <td>862</td>\n",
       "      <td>tt0114709</td>\n",
       "      <td>en</td>\n",
       "      <td>Toy Story</td>\n",
       "      <td>...</td>\n",
       "      <td>1995-10-30</td>\n",
       "      <td>373554033.0</td>\n",
       "      <td>81.0</td>\n",
       "      <td>[{'iso_639_1': 'en', 'name': 'English'}]</td>\n",
       "      <td>Released</td>\n",
       "      <td>NaN</td>\n",
       "      <td>Toy Story</td>\n",
       "      <td>False</td>\n",
       "      <td>7.7</td>\n",
       "      <td>5415.0</td>\n",
       "    </tr>\n",
       "    <tr>\n",
       "      <th>1</th>\n",
       "      <td>1</td>\n",
       "      <td>False</td>\n",
       "      <td>NaN</td>\n",
       "      <td>65000000</td>\n",
       "      <td>[{'id': 12, 'name': 'Adventure'}, {'id': 14, '...</td>\n",
       "      <td>NaN</td>\n",
       "      <td>8844</td>\n",
       "      <td>tt0113497</td>\n",
       "      <td>en</td>\n",
       "      <td>Jumanji</td>\n",
       "      <td>...</td>\n",
       "      <td>1995-12-15</td>\n",
       "      <td>262797249.0</td>\n",
       "      <td>104.0</td>\n",
       "      <td>[{'iso_639_1': 'en', 'name': 'English'}, {'iso...</td>\n",
       "      <td>Released</td>\n",
       "      <td>Roll the dice and unleash the excitement!</td>\n",
       "      <td>Jumanji</td>\n",
       "      <td>False</td>\n",
       "      <td>6.9</td>\n",
       "      <td>2413.0</td>\n",
       "    </tr>\n",
       "    <tr>\n",
       "      <th>2</th>\n",
       "      <td>2</td>\n",
       "      <td>False</td>\n",
       "      <td>{'id': 119050, 'name': 'Grumpy Old Men Collect...</td>\n",
       "      <td>0</td>\n",
       "      <td>[{'id': 10749, 'name': 'Romance'}, {'id': 35, ...</td>\n",
       "      <td>NaN</td>\n",
       "      <td>15602</td>\n",
       "      <td>tt0113228</td>\n",
       "      <td>en</td>\n",
       "      <td>Grumpier Old Men</td>\n",
       "      <td>...</td>\n",
       "      <td>1995-12-22</td>\n",
       "      <td>0.0</td>\n",
       "      <td>101.0</td>\n",
       "      <td>[{'iso_639_1': 'en', 'name': 'English'}]</td>\n",
       "      <td>Released</td>\n",
       "      <td>Still Yelling. Still Fighting. Still Ready for...</td>\n",
       "      <td>Grumpier Old Men</td>\n",
       "      <td>False</td>\n",
       "      <td>6.5</td>\n",
       "      <td>92.0</td>\n",
       "    </tr>\n",
       "    <tr>\n",
       "      <th>3</th>\n",
       "      <td>3</td>\n",
       "      <td>False</td>\n",
       "      <td>NaN</td>\n",
       "      <td>16000000</td>\n",
       "      <td>[{'id': 35, 'name': 'Comedy'}, {'id': 18, 'nam...</td>\n",
       "      <td>NaN</td>\n",
       "      <td>31357</td>\n",
       "      <td>tt0114885</td>\n",
       "      <td>en</td>\n",
       "      <td>Waiting to Exhale</td>\n",
       "      <td>...</td>\n",
       "      <td>1995-12-22</td>\n",
       "      <td>81452156.0</td>\n",
       "      <td>127.0</td>\n",
       "      <td>[{'iso_639_1': 'en', 'name': 'English'}]</td>\n",
       "      <td>Released</td>\n",
       "      <td>Friends are the people who let you be yourself...</td>\n",
       "      <td>Waiting to Exhale</td>\n",
       "      <td>False</td>\n",
       "      <td>6.1</td>\n",
       "      <td>34.0</td>\n",
       "    </tr>\n",
       "    <tr>\n",
       "      <th>4</th>\n",
       "      <td>4</td>\n",
       "      <td>False</td>\n",
       "      <td>{'id': 96871, 'name': 'Father of the Bride Col...</td>\n",
       "      <td>0</td>\n",
       "      <td>[{'id': 35, 'name': 'Comedy'}]</td>\n",
       "      <td>NaN</td>\n",
       "      <td>11862</td>\n",
       "      <td>tt0113041</td>\n",
       "      <td>en</td>\n",
       "      <td>Father of the Bride Part II</td>\n",
       "      <td>...</td>\n",
       "      <td>1995-02-10</td>\n",
       "      <td>76578911.0</td>\n",
       "      <td>106.0</td>\n",
       "      <td>[{'iso_639_1': 'en', 'name': 'English'}]</td>\n",
       "      <td>Released</td>\n",
       "      <td>Just When His World Is Back To Normal... He's ...</td>\n",
       "      <td>Father of the Bride Part II</td>\n",
       "      <td>False</td>\n",
       "      <td>5.7</td>\n",
       "      <td>173.0</td>\n",
       "    </tr>\n",
       "  </tbody>\n",
       "</table>\n",
       "<p>5 rows × 25 columns</p>\n",
       "</div>"
      ],
      "text/plain": [
       "   Unnamed: 0  adult                              belongs_to_collection  \\\n",
       "0           0  False  {'id': 10194, 'name': 'Toy Story Collection', ...   \n",
       "1           1  False                                                NaN   \n",
       "2           2  False  {'id': 119050, 'name': 'Grumpy Old Men Collect...   \n",
       "3           3  False                                                NaN   \n",
       "4           4  False  {'id': 96871, 'name': 'Father of the Bride Col...   \n",
       "\n",
       "     budget                                             genres  \\\n",
       "0  30000000  [{'id': 16, 'name': 'Animation'}, {'id': 35, '...   \n",
       "1  65000000  [{'id': 12, 'name': 'Adventure'}, {'id': 14, '...   \n",
       "2         0  [{'id': 10749, 'name': 'Romance'}, {'id': 35, ...   \n",
       "3  16000000  [{'id': 35, 'name': 'Comedy'}, {'id': 18, 'nam...   \n",
       "4         0                     [{'id': 35, 'name': 'Comedy'}]   \n",
       "\n",
       "                               homepage     id    imdb_id original_language  \\\n",
       "0  http://toystory.disney.com/toy-story    862  tt0114709                en   \n",
       "1                                   NaN   8844  tt0113497                en   \n",
       "2                                   NaN  15602  tt0113228                en   \n",
       "3                                   NaN  31357  tt0114885                en   \n",
       "4                                   NaN  11862  tt0113041                en   \n",
       "\n",
       "                original_title  ... release_date      revenue runtime  \\\n",
       "0                    Toy Story  ...   1995-10-30  373554033.0    81.0   \n",
       "1                      Jumanji  ...   1995-12-15  262797249.0   104.0   \n",
       "2             Grumpier Old Men  ...   1995-12-22          0.0   101.0   \n",
       "3            Waiting to Exhale  ...   1995-12-22   81452156.0   127.0   \n",
       "4  Father of the Bride Part II  ...   1995-02-10   76578911.0   106.0   \n",
       "\n",
       "                                    spoken_languages    status  \\\n",
       "0           [{'iso_639_1': 'en', 'name': 'English'}]  Released   \n",
       "1  [{'iso_639_1': 'en', 'name': 'English'}, {'iso...  Released   \n",
       "2           [{'iso_639_1': 'en', 'name': 'English'}]  Released   \n",
       "3           [{'iso_639_1': 'en', 'name': 'English'}]  Released   \n",
       "4           [{'iso_639_1': 'en', 'name': 'English'}]  Released   \n",
       "\n",
       "                                             tagline  \\\n",
       "0                                                NaN   \n",
       "1          Roll the dice and unleash the excitement!   \n",
       "2  Still Yelling. Still Fighting. Still Ready for...   \n",
       "3  Friends are the people who let you be yourself...   \n",
       "4  Just When His World Is Back To Normal... He's ...   \n",
       "\n",
       "                         title  video vote_average vote_count  \n",
       "0                    Toy Story  False          7.7     5415.0  \n",
       "1                      Jumanji  False          6.9     2413.0  \n",
       "2             Grumpier Old Men  False          6.5       92.0  \n",
       "3            Waiting to Exhale  False          6.1       34.0  \n",
       "4  Father of the Bride Part II  False          5.7      173.0  \n",
       "\n",
       "[5 rows x 25 columns]"
      ]
     },
     "execution_count": 25,
     "metadata": {},
     "output_type": "execute_result"
    }
   ],
   "source": [
    "meta = pd.read_csv('meta.csv')\n",
    "meta.head(5)"
   ]
  },
  {
   "cell_type": "code",
   "execution_count": 26,
   "metadata": {
    "collapsed": false,
    "jupyter": {
     "outputs_hidden": false
    },
    "pycharm": {
     "name": "#%%\n"
    }
   },
   "outputs": [
    {
     "data": {
      "text/html": [
       "<div>\n",
       "<style scoped>\n",
       "    .dataframe tbody tr th:only-of-type {\n",
       "        vertical-align: middle;\n",
       "    }\n",
       "\n",
       "    .dataframe tbody tr th {\n",
       "        vertical-align: top;\n",
       "    }\n",
       "\n",
       "    .dataframe thead th {\n",
       "        text-align: right;\n",
       "    }\n",
       "</style>\n",
       "<table border=\"1\" class=\"dataframe\">\n",
       "  <thead>\n",
       "    <tr style=\"text-align: right;\">\n",
       "      <th></th>\n",
       "      <th>userId</th>\n",
       "      <th>movieId</th>\n",
       "      <th>rating</th>\n",
       "      <th>timestamp</th>\n",
       "    </tr>\n",
       "  </thead>\n",
       "  <tbody>\n",
       "    <tr>\n",
       "      <th>0</th>\n",
       "      <td>1</td>\n",
       "      <td>31</td>\n",
       "      <td>2.5</td>\n",
       "      <td>1260759144</td>\n",
       "    </tr>\n",
       "    <tr>\n",
       "      <th>1</th>\n",
       "      <td>1</td>\n",
       "      <td>1029</td>\n",
       "      <td>3.0</td>\n",
       "      <td>1260759179</td>\n",
       "    </tr>\n",
       "    <tr>\n",
       "      <th>2</th>\n",
       "      <td>1</td>\n",
       "      <td>1061</td>\n",
       "      <td>3.0</td>\n",
       "      <td>1260759182</td>\n",
       "    </tr>\n",
       "    <tr>\n",
       "      <th>3</th>\n",
       "      <td>1</td>\n",
       "      <td>1129</td>\n",
       "      <td>2.0</td>\n",
       "      <td>1260759185</td>\n",
       "    </tr>\n",
       "    <tr>\n",
       "      <th>4</th>\n",
       "      <td>1</td>\n",
       "      <td>1172</td>\n",
       "      <td>4.0</td>\n",
       "      <td>1260759205</td>\n",
       "    </tr>\n",
       "  </tbody>\n",
       "</table>\n",
       "</div>"
      ],
      "text/plain": [
       "   userId  movieId  rating   timestamp\n",
       "0       1       31     2.5  1260759144\n",
       "1       1     1029     3.0  1260759179\n",
       "2       1     1061     3.0  1260759182\n",
       "3       1     1129     2.0  1260759185\n",
       "4       1     1172     4.0  1260759205"
      ]
     },
     "execution_count": 26,
     "metadata": {},
     "output_type": "execute_result"
    }
   ],
   "source": [
    "# Rating\n",
    "ratings = pd.read_csv('ratings_small.csv')\n",
    "ratings.head(5)"
   ]
  },
  {
   "cell_type": "code",
   "execution_count": 27,
   "metadata": {
    "collapsed": false,
    "jupyter": {
     "outputs_hidden": false
    },
    "pycharm": {
     "name": "#%%\n"
    }
   },
   "outputs": [
    {
     "data": {
      "text/html": [
       "<div>\n",
       "<style scoped>\n",
       "    .dataframe tbody tr th:only-of-type {\n",
       "        vertical-align: middle;\n",
       "    }\n",
       "\n",
       "    .dataframe tbody tr th {\n",
       "        vertical-align: top;\n",
       "    }\n",
       "\n",
       "    .dataframe thead th {\n",
       "        text-align: right;\n",
       "    }\n",
       "</style>\n",
       "<table border=\"1\" class=\"dataframe\">\n",
       "  <thead>\n",
       "    <tr style=\"text-align: right;\">\n",
       "      <th></th>\n",
       "      <th>movieId</th>\n",
       "      <th>imdbId</th>\n",
       "      <th>tmdbId</th>\n",
       "    </tr>\n",
       "  </thead>\n",
       "  <tbody>\n",
       "    <tr>\n",
       "      <th>0</th>\n",
       "      <td>1</td>\n",
       "      <td>114709</td>\n",
       "      <td>862.0</td>\n",
       "    </tr>\n",
       "    <tr>\n",
       "      <th>1</th>\n",
       "      <td>2</td>\n",
       "      <td>113497</td>\n",
       "      <td>8844.0</td>\n",
       "    </tr>\n",
       "    <tr>\n",
       "      <th>2</th>\n",
       "      <td>3</td>\n",
       "      <td>113228</td>\n",
       "      <td>15602.0</td>\n",
       "    </tr>\n",
       "    <tr>\n",
       "      <th>3</th>\n",
       "      <td>4</td>\n",
       "      <td>114885</td>\n",
       "      <td>31357.0</td>\n",
       "    </tr>\n",
       "    <tr>\n",
       "      <th>4</th>\n",
       "      <td>5</td>\n",
       "      <td>113041</td>\n",
       "      <td>11862.0</td>\n",
       "    </tr>\n",
       "  </tbody>\n",
       "</table>\n",
       "</div>"
      ],
      "text/plain": [
       "   movieId  imdbId   tmdbId\n",
       "0        1  114709    862.0\n",
       "1        2  113497   8844.0\n",
       "2        3  113228  15602.0\n",
       "3        4  114885  31357.0\n",
       "4        5  113041  11862.0"
      ]
     },
     "execution_count": 27,
     "metadata": {},
     "output_type": "execute_result"
    }
   ],
   "source": [
    "#Links of IMDb and TMDb\n",
    "links = pd.read_csv('links_small.csv')\n",
    "links.head()"
   ]
  },
  {
   "cell_type": "code",
   "execution_count": 28,
   "metadata": {
    "collapsed": false,
    "jupyter": {
     "outputs_hidden": false
    },
    "pycharm": {
     "name": "#%%\n"
    }
   },
   "outputs": [
    {
     "data": {
      "text/html": [
       "<div>\n",
       "<style scoped>\n",
       "    .dataframe tbody tr th:only-of-type {\n",
       "        vertical-align: middle;\n",
       "    }\n",
       "\n",
       "    .dataframe tbody tr th {\n",
       "        vertical-align: top;\n",
       "    }\n",
       "\n",
       "    .dataframe thead th {\n",
       "        text-align: right;\n",
       "    }\n",
       "</style>\n",
       "<table border=\"1\" class=\"dataframe\">\n",
       "  <thead>\n",
       "    <tr style=\"text-align: right;\">\n",
       "      <th></th>\n",
       "      <th>id</th>\n",
       "      <th>keywords</th>\n",
       "    </tr>\n",
       "  </thead>\n",
       "  <tbody>\n",
       "    <tr>\n",
       "      <th>0</th>\n",
       "      <td>862</td>\n",
       "      <td>[{'id': 931, 'name': 'jealousy'}, {'id': 4290,...</td>\n",
       "    </tr>\n",
       "    <tr>\n",
       "      <th>1</th>\n",
       "      <td>8844</td>\n",
       "      <td>[{'id': 10090, 'name': 'board game'}, {'id': 1...</td>\n",
       "    </tr>\n",
       "    <tr>\n",
       "      <th>2</th>\n",
       "      <td>15602</td>\n",
       "      <td>[{'id': 1495, 'name': 'fishing'}, {'id': 12392...</td>\n",
       "    </tr>\n",
       "    <tr>\n",
       "      <th>3</th>\n",
       "      <td>31357</td>\n",
       "      <td>[{'id': 818, 'name': 'based on novel'}, {'id':...</td>\n",
       "    </tr>\n",
       "    <tr>\n",
       "      <th>4</th>\n",
       "      <td>11862</td>\n",
       "      <td>[{'id': 1009, 'name': 'baby'}, {'id': 1599, 'n...</td>\n",
       "    </tr>\n",
       "  </tbody>\n",
       "</table>\n",
       "</div>"
      ],
      "text/plain": [
       "      id                                           keywords\n",
       "0    862  [{'id': 931, 'name': 'jealousy'}, {'id': 4290,...\n",
       "1   8844  [{'id': 10090, 'name': 'board game'}, {'id': 1...\n",
       "2  15602  [{'id': 1495, 'name': 'fishing'}, {'id': 12392...\n",
       "3  31357  [{'id': 818, 'name': 'based on novel'}, {'id':...\n",
       "4  11862  [{'id': 1009, 'name': 'baby'}, {'id': 1599, 'n..."
      ]
     },
     "execution_count": 28,
     "metadata": {},
     "output_type": "execute_result"
    }
   ],
   "source": [
    "keywords = pd.read_csv('keywords.csv')\n",
    "keywords.head()"
   ]
  },
  {
   "cell_type": "code",
   "execution_count": 29,
   "metadata": {
    "collapsed": false,
    "jupyter": {
     "outputs_hidden": false
    },
    "pycharm": {
     "name": "#%%\n"
    }
   },
   "outputs": [],
   "source": [
    "meta['overview'] = meta['overview'].fillna('')"
   ]
  },
  {
   "cell_type": "code",
   "execution_count": 30,
   "metadata": {
    "collapsed": false,
    "jupyter": {
     "outputs_hidden": false
    },
    "pycharm": {
     "name": "#%%\n"
    }
   },
   "outputs": [
    {
     "data": {
      "text/html": [
       "<div>\n",
       "<style scoped>\n",
       "    .dataframe tbody tr th:only-of-type {\n",
       "        vertical-align: middle;\n",
       "    }\n",
       "\n",
       "    .dataframe tbody tr th {\n",
       "        vertical-align: top;\n",
       "    }\n",
       "\n",
       "    .dataframe thead th {\n",
       "        text-align: right;\n",
       "    }\n",
       "</style>\n",
       "<table border=\"1\" class=\"dataframe\">\n",
       "  <thead>\n",
       "    <tr style=\"text-align: right;\">\n",
       "      <th></th>\n",
       "      <th>feature</th>\n",
       "      <th>dtype</th>\n",
       "    </tr>\n",
       "  </thead>\n",
       "  <tbody>\n",
       "    <tr>\n",
       "      <th>0</th>\n",
       "      <td>Unnamed: 0</td>\n",
       "      <td>int64</td>\n",
       "    </tr>\n",
       "    <tr>\n",
       "      <th>1</th>\n",
       "      <td>adult</td>\n",
       "      <td>bool</td>\n",
       "    </tr>\n",
       "    <tr>\n",
       "      <th>2</th>\n",
       "      <td>belongs_to_collection</td>\n",
       "      <td>object</td>\n",
       "    </tr>\n",
       "    <tr>\n",
       "      <th>3</th>\n",
       "      <td>budget</td>\n",
       "      <td>int64</td>\n",
       "    </tr>\n",
       "    <tr>\n",
       "      <th>4</th>\n",
       "      <td>genres</td>\n",
       "      <td>object</td>\n",
       "    </tr>\n",
       "    <tr>\n",
       "      <th>5</th>\n",
       "      <td>homepage</td>\n",
       "      <td>object</td>\n",
       "    </tr>\n",
       "    <tr>\n",
       "      <th>6</th>\n",
       "      <td>id</td>\n",
       "      <td>int64</td>\n",
       "    </tr>\n",
       "    <tr>\n",
       "      <th>7</th>\n",
       "      <td>imdb_id</td>\n",
       "      <td>object</td>\n",
       "    </tr>\n",
       "    <tr>\n",
       "      <th>8</th>\n",
       "      <td>original_language</td>\n",
       "      <td>object</td>\n",
       "    </tr>\n",
       "    <tr>\n",
       "      <th>9</th>\n",
       "      <td>original_title</td>\n",
       "      <td>object</td>\n",
       "    </tr>\n",
       "    <tr>\n",
       "      <th>10</th>\n",
       "      <td>overview</td>\n",
       "      <td>object</td>\n",
       "    </tr>\n",
       "    <tr>\n",
       "      <th>11</th>\n",
       "      <td>popularity</td>\n",
       "      <td>float64</td>\n",
       "    </tr>\n",
       "    <tr>\n",
       "      <th>12</th>\n",
       "      <td>poster_path</td>\n",
       "      <td>object</td>\n",
       "    </tr>\n",
       "    <tr>\n",
       "      <th>13</th>\n",
       "      <td>production_companies</td>\n",
       "      <td>object</td>\n",
       "    </tr>\n",
       "    <tr>\n",
       "      <th>14</th>\n",
       "      <td>production_countries</td>\n",
       "      <td>object</td>\n",
       "    </tr>\n",
       "    <tr>\n",
       "      <th>15</th>\n",
       "      <td>release_date</td>\n",
       "      <td>object</td>\n",
       "    </tr>\n",
       "    <tr>\n",
       "      <th>16</th>\n",
       "      <td>revenue</td>\n",
       "      <td>float64</td>\n",
       "    </tr>\n",
       "    <tr>\n",
       "      <th>17</th>\n",
       "      <td>runtime</td>\n",
       "      <td>float64</td>\n",
       "    </tr>\n",
       "    <tr>\n",
       "      <th>18</th>\n",
       "      <td>spoken_languages</td>\n",
       "      <td>object</td>\n",
       "    </tr>\n",
       "    <tr>\n",
       "      <th>19</th>\n",
       "      <td>status</td>\n",
       "      <td>object</td>\n",
       "    </tr>\n",
       "    <tr>\n",
       "      <th>20</th>\n",
       "      <td>tagline</td>\n",
       "      <td>object</td>\n",
       "    </tr>\n",
       "    <tr>\n",
       "      <th>21</th>\n",
       "      <td>title</td>\n",
       "      <td>object</td>\n",
       "    </tr>\n",
       "    <tr>\n",
       "      <th>22</th>\n",
       "      <td>video</td>\n",
       "      <td>object</td>\n",
       "    </tr>\n",
       "    <tr>\n",
       "      <th>23</th>\n",
       "      <td>vote_average</td>\n",
       "      <td>float64</td>\n",
       "    </tr>\n",
       "    <tr>\n",
       "      <th>24</th>\n",
       "      <td>vote_count</td>\n",
       "      <td>float64</td>\n",
       "    </tr>\n",
       "  </tbody>\n",
       "</table>\n",
       "</div>"
      ],
      "text/plain": [
       "                  feature    dtype\n",
       "0              Unnamed: 0    int64\n",
       "1                   adult     bool\n",
       "2   belongs_to_collection   object\n",
       "3                  budget    int64\n",
       "4                  genres   object\n",
       "5                homepage   object\n",
       "6                      id    int64\n",
       "7                 imdb_id   object\n",
       "8       original_language   object\n",
       "9          original_title   object\n",
       "10               overview   object\n",
       "11             popularity  float64\n",
       "12            poster_path   object\n",
       "13   production_companies   object\n",
       "14   production_countries   object\n",
       "15           release_date   object\n",
       "16                revenue  float64\n",
       "17                runtime  float64\n",
       "18       spoken_languages   object\n",
       "19                 status   object\n",
       "20                tagline   object\n",
       "21                  title   object\n",
       "22                  video   object\n",
       "23           vote_average  float64\n",
       "24             vote_count  float64"
      ]
     },
     "execution_count": 30,
     "metadata": {},
     "output_type": "execute_result"
    }
   ],
   "source": [
    "pd.DataFrame({'feature':meta.dtypes.index, 'dtype':meta.dtypes.values})"
   ]
  },
  {
   "cell_type": "code",
   "execution_count": 31,
   "metadata": {
    "collapsed": false,
    "jupyter": {
     "outputs_hidden": false
    },
    "pycharm": {
     "name": "#%%\n"
    }
   },
   "outputs": [],
   "source": [
    "meta = meta.drop([19730, 29503, 35587]) # Remove these ids to solve ValueError: \"Unable to parse string...\"\n",
    "meta['id'] = pd.to_numeric(meta['id'])"
   ]
  },
  {
   "cell_type": "code",
   "execution_count": 32,
   "metadata": {
    "collapsed": false,
    "jupyter": {
     "outputs_hidden": false
    },
    "pycharm": {
     "name": "#%%\n"
    }
   },
   "outputs": [
    {
     "data": {
      "text/html": [
       "<div>\n",
       "<style scoped>\n",
       "    .dataframe tbody tr th:only-of-type {\n",
       "        vertical-align: middle;\n",
       "    }\n",
       "\n",
       "    .dataframe tbody tr th {\n",
       "        vertical-align: top;\n",
       "    }\n",
       "\n",
       "    .dataframe thead th {\n",
       "        text-align: right;\n",
       "    }\n",
       "</style>\n",
       "<table border=\"1\" class=\"dataframe\">\n",
       "  <thead>\n",
       "    <tr style=\"text-align: right;\">\n",
       "      <th></th>\n",
       "      <th>feature</th>\n",
       "      <th>dtype</th>\n",
       "    </tr>\n",
       "  </thead>\n",
       "  <tbody>\n",
       "    <tr>\n",
       "      <th>0</th>\n",
       "      <td>movieId</td>\n",
       "      <td>int64</td>\n",
       "    </tr>\n",
       "    <tr>\n",
       "      <th>1</th>\n",
       "      <td>imdbId</td>\n",
       "      <td>int64</td>\n",
       "    </tr>\n",
       "    <tr>\n",
       "      <th>2</th>\n",
       "      <td>tmdbId</td>\n",
       "      <td>float64</td>\n",
       "    </tr>\n",
       "  </tbody>\n",
       "</table>\n",
       "</div>"
      ],
      "text/plain": [
       "   feature    dtype\n",
       "0  movieId    int64\n",
       "1   imdbId    int64\n",
       "2   tmdbId  float64"
      ]
     },
     "execution_count": 32,
     "metadata": {},
     "output_type": "execute_result"
    }
   ],
   "source": [
    "pd.DataFrame({'feature':links.dtypes.index, 'dtype':links.dtypes.values})"
   ]
  },
  {
   "cell_type": "code",
   "execution_count": 33,
   "metadata": {
    "collapsed": false,
    "jupyter": {
     "outputs_hidden": false
    },
    "pycharm": {
     "name": "#%%\n"
    }
   },
   "outputs": [],
   "source": [
    "col=np.array(links['tmdbId'], np.int64)\n",
    "links['tmdbId']=col"
   ]
  },
  {
   "cell_type": "code",
   "execution_count": 34,
   "metadata": {
    "collapsed": false,
    "jupyter": {
     "outputs_hidden": false
    },
    "pycharm": {
     "name": "#%%\n"
    }
   },
   "outputs": [],
   "source": [
    "meta.rename(columns={'id':'tmdbId'}, inplace=True)\n",
    "meta = pd.merge(meta,links,on='tmdbId')\n",
    "meta.drop(['imdb_id'], axis=1, inplace=True)"
   ]
  },
  {
   "cell_type": "code",
   "execution_count": 35,
   "metadata": {
    "collapsed": false,
    "jupyter": {
     "outputs_hidden": false
    },
    "pycharm": {
     "name": "#%%\n"
    }
   },
   "outputs": [
    {
     "data": {
      "text/plain": [
       "(9098, 29727)"
      ]
     },
     "execution_count": 35,
     "metadata": {},
     "output_type": "execute_result"
    }
   ],
   "source": [
    "tfidf = TfidfVectorizer(stop_words='english')\n",
    "# Constructing  matrix TF-IDF\n",
    "tfidf_matrix = tfidf.fit_transform(meta['overview'])\n",
    "tfidf_matrix.shape"
   ]
  },
  {
   "cell_type": "code",
   "execution_count": 36,
   "metadata": {
    "collapsed": false,
    "jupyter": {
     "outputs_hidden": false
    },
    "pycharm": {
     "name": "#%%\n"
    }
   },
   "outputs": [],
   "source": [
    "cosine_sim = linear_kernel(tfidf_matrix, tfidf_matrix)\n",
    "indices = pd.Series(meta.index, index=meta['original_title']).drop_duplicates()"
   ]
  },
  {
   "cell_type": "code",
   "execution_count": 37,
   "metadata": {
    "collapsed": false,
    "jupyter": {
     "outputs_hidden": false
    },
    "pycharm": {
     "name": "#%%\n"
    }
   },
   "outputs": [],
   "source": [
    "def recommend(title, cosine_sim=cosine_sim):\n",
    "\n",
    "    idx = indices[title]\n",
    "    sim_scores = list(enumerate(cosine_sim[idx]))\n",
    "    sim_scores = sorted(sim_scores, key=lambda x: x[1], reverse=True)\n",
    "    sim_scores = sim_scores[1:16]\n",
    "    movie_indices = [i[0] for i in sim_scores]\n",
    "    for i in movie_indices:\n",
    "        pop = meta.at[i,'vote_average']\n",
    "        if pop<5 or pop>10:\n",
    "            movie_indices.remove(i)\n",
    "\n",
    "    return meta[['original_title','vote_average']].iloc[movie_indices]"
   ]
  },
  {
   "cell_type": "code",
   "execution_count": 38,
   "metadata": {
    "collapsed": false,
    "jupyter": {
     "outputs_hidden": false
    },
    "pycharm": {
     "name": "#%%\n"
    }
   },
   "outputs": [
    {
     "data": {
      "text/html": [
       "<div>\n",
       "<style scoped>\n",
       "    .dataframe tbody tr th:only-of-type {\n",
       "        vertical-align: middle;\n",
       "    }\n",
       "\n",
       "    .dataframe tbody tr th {\n",
       "        vertical-align: top;\n",
       "    }\n",
       "\n",
       "    .dataframe thead th {\n",
       "        text-align: right;\n",
       "    }\n",
       "</style>\n",
       "<table border=\"1\" class=\"dataframe\">\n",
       "  <thead>\n",
       "    <tr style=\"text-align: right;\">\n",
       "      <th></th>\n",
       "      <th>original_title</th>\n",
       "      <th>vote_average</th>\n",
       "    </tr>\n",
       "  </thead>\n",
       "  <tbody>\n",
       "    <tr>\n",
       "      <th>7516</th>\n",
       "      <td>Iron Man 2</td>\n",
       "      <td>6.6</td>\n",
       "    </tr>\n",
       "    <tr>\n",
       "      <th>8295</th>\n",
       "      <td>Iron Man 3</td>\n",
       "      <td>6.8</td>\n",
       "    </tr>\n",
       "    <tr>\n",
       "      <th>5670</th>\n",
       "      <td>Scarface</td>\n",
       "      <td>7.5</td>\n",
       "    </tr>\n",
       "    <tr>\n",
       "      <th>8765</th>\n",
       "      <td>Avengers: Age of Ultron</td>\n",
       "      <td>7.3</td>\n",
       "    </tr>\n",
       "    <tr>\n",
       "      <th>8100</th>\n",
       "      <td>Brake</td>\n",
       "      <td>5.3</td>\n",
       "    </tr>\n",
       "    <tr>\n",
       "      <th>4274</th>\n",
       "      <td>Saturday Night Fever</td>\n",
       "      <td>6.5</td>\n",
       "    </tr>\n",
       "    <tr>\n",
       "      <th>6063</th>\n",
       "      <td>Hostage</td>\n",
       "      <td>6.2</td>\n",
       "    </tr>\n",
       "    <tr>\n",
       "      <th>2322</th>\n",
       "      <td>The Dark Half</td>\n",
       "      <td>5.4</td>\n",
       "    </tr>\n",
       "    <tr>\n",
       "      <th>6152</th>\n",
       "      <td>Batman Begins</td>\n",
       "      <td>7.5</td>\n",
       "    </tr>\n",
       "    <tr>\n",
       "      <th>1650</th>\n",
       "      <td>Return from Witch Mountain</td>\n",
       "      <td>5.6</td>\n",
       "    </tr>\n",
       "    <tr>\n",
       "      <th>5057</th>\n",
       "      <td>Dr. Jekyll and Mr. Hyde</td>\n",
       "      <td>6.6</td>\n",
       "    </tr>\n",
       "    <tr>\n",
       "      <th>1001</th>\n",
       "      <td>Touch of Evil</td>\n",
       "      <td>7.6</td>\n",
       "    </tr>\n",
       "    <tr>\n",
       "      <th>7183</th>\n",
       "      <td>Echelon Conspiracy</td>\n",
       "      <td>5.4</td>\n",
       "    </tr>\n",
       "    <tr>\n",
       "      <th>813</th>\n",
       "      <td>Escape to Witch Mountain</td>\n",
       "      <td>6.5</td>\n",
       "    </tr>\n",
       "    <tr>\n",
       "      <th>1774</th>\n",
       "      <td>Married to the Mob</td>\n",
       "      <td>5.8</td>\n",
       "    </tr>\n",
       "  </tbody>\n",
       "</table>\n",
       "</div>"
      ],
      "text/plain": [
       "                  original_title  vote_average\n",
       "7516                  Iron Man 2           6.6\n",
       "8295                  Iron Man 3           6.8\n",
       "5670                    Scarface           7.5\n",
       "8765     Avengers: Age of Ultron           7.3\n",
       "8100                       Brake           5.3\n",
       "4274        Saturday Night Fever           6.5\n",
       "6063                     Hostage           6.2\n",
       "2322               The Dark Half           5.4\n",
       "6152               Batman Begins           7.5\n",
       "1650  Return from Witch Mountain           5.6\n",
       "5057     Dr. Jekyll and Mr. Hyde           6.6\n",
       "1001               Touch of Evil           7.6\n",
       "7183          Echelon Conspiracy           5.4\n",
       "813     Escape to Witch Mountain           6.5\n",
       "1774          Married to the Mob           5.8"
      ]
     },
     "execution_count": 38,
     "metadata": {},
     "output_type": "execute_result"
    }
   ],
   "source": [
    "recommend('Iron Man')"
   ]
  },
  {
   "cell_type": "code",
   "execution_count": 39,
   "metadata": {
    "collapsed": false,
    "jupyter": {
     "outputs_hidden": false
    },
    "pycharm": {
     "name": "#%%\n"
    }
   },
   "outputs": [
    {
     "data": {
      "text/plain": [
       "<generator object KFold.split at 0x7f11bfee3410>"
      ]
     },
     "execution_count": 39,
     "metadata": {},
     "output_type": "execute_result"
    }
   ],
   "source": [
    "reader = Reader() \n",
    "df = Dataset.load_from_df(ratings[['userId', 'movieId', 'rating']], reader)\n",
    "kf = KFold(n_splits=5)\n",
    "kf.split(df) "
   ]
  },
  {
   "cell_type": "code",
   "execution_count": 40,
   "metadata": {
    "collapsed": false,
    "jupyter": {
     "outputs_hidden": false
    },
    "pycharm": {
     "name": "#%%\n"
    }
   },
   "outputs": [
    {
     "data": {
      "text/plain": [
       "<surprise.prediction_algorithms.matrix_factorization.SVD at 0x7f11c1bc4898>"
      ]
     },
     "execution_count": 40,
     "metadata": {},
     "output_type": "execute_result"
    }
   ],
   "source": [
    "svd = SVD()\n",
    "cross_validate(svd, df, measures=['RMSE', 'MAE'])\n",
    "\n",
    "trainset = df.build_full_trainset()\n",
    "svd.fit(trainset)"
   ]
  },
  {
   "cell_type": "code",
   "execution_count": 41,
   "metadata": {
    "collapsed": false,
    "jupyter": {
     "outputs_hidden": false
    },
    "pycharm": {
     "name": "#%%\n"
    }
   },
   "outputs": [
    {
     "data": {
      "text/html": [
       "<div>\n",
       "<style scoped>\n",
       "    .dataframe tbody tr th:only-of-type {\n",
       "        vertical-align: middle;\n",
       "    }\n",
       "\n",
       "    .dataframe tbody tr th {\n",
       "        vertical-align: top;\n",
       "    }\n",
       "\n",
       "    .dataframe thead th {\n",
       "        text-align: right;\n",
       "    }\n",
       "</style>\n",
       "<table border=\"1\" class=\"dataframe\">\n",
       "  <thead>\n",
       "    <tr style=\"text-align: right;\">\n",
       "      <th></th>\n",
       "      <th>userId</th>\n",
       "      <th>movieId</th>\n",
       "      <th>rating</th>\n",
       "      <th>timestamp</th>\n",
       "    </tr>\n",
       "  </thead>\n",
       "  <tbody>\n",
       "    <tr>\n",
       "      <th>744</th>\n",
       "      <td>10</td>\n",
       "      <td>50</td>\n",
       "      <td>5.0</td>\n",
       "      <td>942766420</td>\n",
       "    </tr>\n",
       "    <tr>\n",
       "      <th>745</th>\n",
       "      <td>10</td>\n",
       "      <td>152</td>\n",
       "      <td>4.0</td>\n",
       "      <td>942766793</td>\n",
       "    </tr>\n",
       "    <tr>\n",
       "      <th>746</th>\n",
       "      <td>10</td>\n",
       "      <td>318</td>\n",
       "      <td>4.0</td>\n",
       "      <td>942766515</td>\n",
       "    </tr>\n",
       "    <tr>\n",
       "      <th>747</th>\n",
       "      <td>10</td>\n",
       "      <td>344</td>\n",
       "      <td>3.0</td>\n",
       "      <td>942766603</td>\n",
       "    </tr>\n",
       "    <tr>\n",
       "      <th>748</th>\n",
       "      <td>10</td>\n",
       "      <td>345</td>\n",
       "      <td>4.0</td>\n",
       "      <td>942766603</td>\n",
       "    </tr>\n",
       "    <tr>\n",
       "      <th>749</th>\n",
       "      <td>10</td>\n",
       "      <td>592</td>\n",
       "      <td>3.0</td>\n",
       "      <td>942767328</td>\n",
       "    </tr>\n",
       "    <tr>\n",
       "      <th>750</th>\n",
       "      <td>10</td>\n",
       "      <td>735</td>\n",
       "      <td>4.0</td>\n",
       "      <td>942766974</td>\n",
       "    </tr>\n",
       "    <tr>\n",
       "      <th>751</th>\n",
       "      <td>10</td>\n",
       "      <td>1036</td>\n",
       "      <td>3.0</td>\n",
       "      <td>942767258</td>\n",
       "    </tr>\n",
       "    <tr>\n",
       "      <th>752</th>\n",
       "      <td>10</td>\n",
       "      <td>1089</td>\n",
       "      <td>3.0</td>\n",
       "      <td>942766420</td>\n",
       "    </tr>\n",
       "    <tr>\n",
       "      <th>753</th>\n",
       "      <td>10</td>\n",
       "      <td>1101</td>\n",
       "      <td>2.0</td>\n",
       "      <td>942767328</td>\n",
       "    </tr>\n",
       "    <tr>\n",
       "      <th>754</th>\n",
       "      <td>10</td>\n",
       "      <td>1127</td>\n",
       "      <td>4.0</td>\n",
       "      <td>942767328</td>\n",
       "    </tr>\n",
       "    <tr>\n",
       "      <th>755</th>\n",
       "      <td>10</td>\n",
       "      <td>1196</td>\n",
       "      <td>4.0</td>\n",
       "      <td>942767258</td>\n",
       "    </tr>\n",
       "    <tr>\n",
       "      <th>756</th>\n",
       "      <td>10</td>\n",
       "      <td>1197</td>\n",
       "      <td>4.0</td>\n",
       "      <td>942767258</td>\n",
       "    </tr>\n",
       "    <tr>\n",
       "      <th>757</th>\n",
       "      <td>10</td>\n",
       "      <td>1198</td>\n",
       "      <td>4.0</td>\n",
       "      <td>942767258</td>\n",
       "    </tr>\n",
       "    <tr>\n",
       "      <th>758</th>\n",
       "      <td>10</td>\n",
       "      <td>1200</td>\n",
       "      <td>4.0</td>\n",
       "      <td>942767258</td>\n",
       "    </tr>\n",
       "    <tr>\n",
       "      <th>759</th>\n",
       "      <td>10</td>\n",
       "      <td>1210</td>\n",
       "      <td>4.0</td>\n",
       "      <td>942767258</td>\n",
       "    </tr>\n",
       "    <tr>\n",
       "      <th>760</th>\n",
       "      <td>10</td>\n",
       "      <td>1220</td>\n",
       "      <td>3.0</td>\n",
       "      <td>942767328</td>\n",
       "    </tr>\n",
       "    <tr>\n",
       "      <th>761</th>\n",
       "      <td>10</td>\n",
       "      <td>1240</td>\n",
       "      <td>4.0</td>\n",
       "      <td>942767258</td>\n",
       "    </tr>\n",
       "    <tr>\n",
       "      <th>762</th>\n",
       "      <td>10</td>\n",
       "      <td>1291</td>\n",
       "      <td>4.0</td>\n",
       "      <td>942767258</td>\n",
       "    </tr>\n",
       "    <tr>\n",
       "      <th>763</th>\n",
       "      <td>10</td>\n",
       "      <td>1358</td>\n",
       "      <td>5.0</td>\n",
       "      <td>942766420</td>\n",
       "    </tr>\n",
       "    <tr>\n",
       "      <th>764</th>\n",
       "      <td>10</td>\n",
       "      <td>1423</td>\n",
       "      <td>4.0</td>\n",
       "      <td>942766420</td>\n",
       "    </tr>\n",
       "    <tr>\n",
       "      <th>765</th>\n",
       "      <td>10</td>\n",
       "      <td>1459</td>\n",
       "      <td>3.0</td>\n",
       "      <td>942766725</td>\n",
       "    </tr>\n",
       "    <tr>\n",
       "      <th>766</th>\n",
       "      <td>10</td>\n",
       "      <td>1499</td>\n",
       "      <td>3.0</td>\n",
       "      <td>942766845</td>\n",
       "    </tr>\n",
       "    <tr>\n",
       "      <th>767</th>\n",
       "      <td>10</td>\n",
       "      <td>1611</td>\n",
       "      <td>5.0</td>\n",
       "      <td>942767029</td>\n",
       "    </tr>\n",
       "    <tr>\n",
       "      <th>768</th>\n",
       "      <td>10</td>\n",
       "      <td>1690</td>\n",
       "      <td>3.0</td>\n",
       "      <td>942766679</td>\n",
       "    </tr>\n",
       "    <tr>\n",
       "      <th>769</th>\n",
       "      <td>10</td>\n",
       "      <td>1704</td>\n",
       "      <td>4.0</td>\n",
       "      <td>942766472</td>\n",
       "    </tr>\n",
       "    <tr>\n",
       "      <th>770</th>\n",
       "      <td>10</td>\n",
       "      <td>1719</td>\n",
       "      <td>5.0</td>\n",
       "      <td>942766472</td>\n",
       "    </tr>\n",
       "    <tr>\n",
       "      <th>771</th>\n",
       "      <td>10</td>\n",
       "      <td>1887</td>\n",
       "      <td>2.0</td>\n",
       "      <td>942766845</td>\n",
       "    </tr>\n",
       "    <tr>\n",
       "      <th>772</th>\n",
       "      <td>10</td>\n",
       "      <td>1923</td>\n",
       "      <td>5.0</td>\n",
       "      <td>942766515</td>\n",
       "    </tr>\n",
       "    <tr>\n",
       "      <th>773</th>\n",
       "      <td>10</td>\n",
       "      <td>2108</td>\n",
       "      <td>3.0</td>\n",
       "      <td>942766472</td>\n",
       "    </tr>\n",
       "    <tr>\n",
       "      <th>774</th>\n",
       "      <td>10</td>\n",
       "      <td>2344</td>\n",
       "      <td>5.0</td>\n",
       "      <td>942766991</td>\n",
       "    </tr>\n",
       "    <tr>\n",
       "      <th>775</th>\n",
       "      <td>10</td>\n",
       "      <td>2406</td>\n",
       "      <td>4.0</td>\n",
       "      <td>942767328</td>\n",
       "    </tr>\n",
       "    <tr>\n",
       "      <th>776</th>\n",
       "      <td>10</td>\n",
       "      <td>2410</td>\n",
       "      <td>2.0</td>\n",
       "      <td>942767328</td>\n",
       "    </tr>\n",
       "    <tr>\n",
       "      <th>777</th>\n",
       "      <td>10</td>\n",
       "      <td>2539</td>\n",
       "      <td>4.0</td>\n",
       "      <td>942766845</td>\n",
       "    </tr>\n",
       "    <tr>\n",
       "      <th>778</th>\n",
       "      <td>10</td>\n",
       "      <td>2571</td>\n",
       "      <td>5.0</td>\n",
       "      <td>942766515</td>\n",
       "    </tr>\n",
       "    <tr>\n",
       "      <th>779</th>\n",
       "      <td>10</td>\n",
       "      <td>2826</td>\n",
       "      <td>5.0</td>\n",
       "      <td>942766109</td>\n",
       "    </tr>\n",
       "    <tr>\n",
       "      <th>780</th>\n",
       "      <td>10</td>\n",
       "      <td>2827</td>\n",
       "      <td>3.0</td>\n",
       "      <td>942766251</td>\n",
       "    </tr>\n",
       "    <tr>\n",
       "      <th>781</th>\n",
       "      <td>10</td>\n",
       "      <td>2840</td>\n",
       "      <td>3.0</td>\n",
       "      <td>942766213</td>\n",
       "    </tr>\n",
       "    <tr>\n",
       "      <th>782</th>\n",
       "      <td>10</td>\n",
       "      <td>2841</td>\n",
       "      <td>4.0</td>\n",
       "      <td>942766029</td>\n",
       "    </tr>\n",
       "    <tr>\n",
       "      <th>783</th>\n",
       "      <td>10</td>\n",
       "      <td>2881</td>\n",
       "      <td>3.0</td>\n",
       "      <td>942766164</td>\n",
       "    </tr>\n",
       "    <tr>\n",
       "      <th>784</th>\n",
       "      <td>10</td>\n",
       "      <td>2890</td>\n",
       "      <td>4.0</td>\n",
       "      <td>942765978</td>\n",
       "    </tr>\n",
       "    <tr>\n",
       "      <th>785</th>\n",
       "      <td>10</td>\n",
       "      <td>2907</td>\n",
       "      <td>2.0</td>\n",
       "      <td>942766213</td>\n",
       "    </tr>\n",
       "    <tr>\n",
       "      <th>786</th>\n",
       "      <td>10</td>\n",
       "      <td>2926</td>\n",
       "      <td>5.0</td>\n",
       "      <td>942767121</td>\n",
       "    </tr>\n",
       "    <tr>\n",
       "      <th>787</th>\n",
       "      <td>10</td>\n",
       "      <td>2995</td>\n",
       "      <td>2.0</td>\n",
       "      <td>942766251</td>\n",
       "    </tr>\n",
       "    <tr>\n",
       "      <th>788</th>\n",
       "      <td>10</td>\n",
       "      <td>3005</td>\n",
       "      <td>3.0</td>\n",
       "      <td>942766059</td>\n",
       "    </tr>\n",
       "    <tr>\n",
       "      <th>789</th>\n",
       "      <td>10</td>\n",
       "      <td>3019</td>\n",
       "      <td>4.0</td>\n",
       "      <td>942767571</td>\n",
       "    </tr>\n",
       "  </tbody>\n",
       "</table>\n",
       "</div>"
      ],
      "text/plain": [
       "     userId  movieId  rating  timestamp\n",
       "744      10       50     5.0  942766420\n",
       "745      10      152     4.0  942766793\n",
       "746      10      318     4.0  942766515\n",
       "747      10      344     3.0  942766603\n",
       "748      10      345     4.0  942766603\n",
       "749      10      592     3.0  942767328\n",
       "750      10      735     4.0  942766974\n",
       "751      10     1036     3.0  942767258\n",
       "752      10     1089     3.0  942766420\n",
       "753      10     1101     2.0  942767328\n",
       "754      10     1127     4.0  942767328\n",
       "755      10     1196     4.0  942767258\n",
       "756      10     1197     4.0  942767258\n",
       "757      10     1198     4.0  942767258\n",
       "758      10     1200     4.0  942767258\n",
       "759      10     1210     4.0  942767258\n",
       "760      10     1220     3.0  942767328\n",
       "761      10     1240     4.0  942767258\n",
       "762      10     1291     4.0  942767258\n",
       "763      10     1358     5.0  942766420\n",
       "764      10     1423     4.0  942766420\n",
       "765      10     1459     3.0  942766725\n",
       "766      10     1499     3.0  942766845\n",
       "767      10     1611     5.0  942767029\n",
       "768      10     1690     3.0  942766679\n",
       "769      10     1704     4.0  942766472\n",
       "770      10     1719     5.0  942766472\n",
       "771      10     1887     2.0  942766845\n",
       "772      10     1923     5.0  942766515\n",
       "773      10     2108     3.0  942766472\n",
       "774      10     2344     5.0  942766991\n",
       "775      10     2406     4.0  942767328\n",
       "776      10     2410     2.0  942767328\n",
       "777      10     2539     4.0  942766845\n",
       "778      10     2571     5.0  942766515\n",
       "779      10     2826     5.0  942766109\n",
       "780      10     2827     3.0  942766251\n",
       "781      10     2840     3.0  942766213\n",
       "782      10     2841     4.0  942766029\n",
       "783      10     2881     3.0  942766164\n",
       "784      10     2890     4.0  942765978\n",
       "785      10     2907     2.0  942766213\n",
       "786      10     2926     5.0  942767121\n",
       "787      10     2995     2.0  942766251\n",
       "788      10     3005     3.0  942766059\n",
       "789      10     3019     4.0  942767571"
      ]
     },
     "execution_count": 41,
     "metadata": {},
     "output_type": "execute_result"
    }
   ],
   "source": [
    "ratings[ratings['userId'] == 10]"
   ]
  },
  {
   "cell_type": "code",
   "execution_count": 42,
   "metadata": {},
   "outputs": [],
   "source": [
    "# smaller link file reload \n",
    "links_df = pd.read_csv('links_small.csv')\n",
    "col=np.array(links_df['tmdbId'], np.int64)\n",
    "links_df['tmdbId']=col\n",
    "\n",
    "links_df = links_df.merge(meta[['title', 'tmdbId']], on='tmdbId').set_index('title')\n",
    "links_index = links_df.set_index('tmdbId') "
   ]
  },
  {
   "cell_type": "code",
   "execution_count": 43,
   "metadata": {
    "collapsed": false,
    "jupyter": {
     "outputs_hidden": false
    },
    "pycharm": {
     "name": "#%%\n"
    }
   },
   "outputs": [],
   "source": [
    "def hybrid(userId, title):\n",
    "    idx = indices[title]\n",
    "    tmdbId = links_df.loc[title]['tmdbId'] # Get the corresponding tmdb id\n",
    "    \n",
    "    sim_scores = list(enumerate(cosine_sim[idx]))\n",
    "    sim_scores = sorted(sim_scores, key=lambda x: x[1], reverse=True)\n",
    "    sim_scores = sim_scores[1:31] # Scores of 30 similar movies\n",
    "    movie_indices = [i[0] for i in sim_scores]\n",
    "    \n",
    "    movies = meta.iloc[movie_indices][['title', 'vote_average', 'tmdbId']]\n",
    "    movies['est'] = movies['tmdbId'].apply(lambda x: svd.predict(userId, links_index.loc[x]['movieId']).est) # Estimated prediction using svd\n",
    "    movies = movies.sort_values('est', ascending=False) # Rank movies according to the predicted values\n",
    "    movies.columns = ['Title', 'Vote Average', 'TMDb Id', 'Estimated Prediction']\n",
    "    return movies.head(30) # Display top 30 recommended movies"
   ]
  },
  {
   "cell_type": "code",
   "execution_count": 44,
   "metadata": {},
   "outputs": [
    {
     "name": "stdout",
     "output_type": "stream",
     "text": [
      "Recommandation avant de prendre en considération le contexte\n",
      "                                        Title  Vote Average  TMDb Id  \\\n",
      "6909                          The Dark Knight           8.3      155   \n",
      "6937                                 Iron Man           7.4     1726   \n",
      "8144                        Seven Psychopaths           6.7    86838   \n",
      "8237  Batman: The Dark Knight Returns, Part 2           7.9   142061   \n",
      "7941                    The Dark Knight Rises           7.6    49026   \n",
      "7284          Gangster's Paradise: Jerusalema           6.8    22600   \n",
      "2581             Batman: Mask of the Phantasm           7.4    14919   \n",
      "8762             Star Wars: The Force Awakens           7.5   140607   \n",
      "7911                         Batman: Year One           7.1    69735   \n",
      "8174  Batman: The Dark Knight Returns, Part 1           7.7   123025   \n",
      "4524                     Bang the Drum Slowly           6.3    42459   \n",
      "9021                  A Very Murray Christmas           5.2   364067   \n",
      "8760                             Wicked Blood           5.3   256740   \n",
      "7575               Batman: Under the Red Hood           7.6    40662   \n",
      "6927                              Speed Racer           5.7     7459   \n",
      "7498                                 Defendor           6.5    34769   \n",
      "1788                         The Seventh Sign           5.9    11082   \n",
      "7392                                   Shrink           6.1    22640   \n",
      "8025                             The Big Bang           5.5    54271   \n",
      "9062                               I Am Wrath           4.5   332411   \n",
      "8699    The Hunger Games: Mockingjay - Part 1           6.6   131631   \n",
      "524                                    Batman           7.0      268   \n",
      "5946                Ong-Bak: The Thai Warrior           7.0     9316   \n",
      "4608                           Bruce Almighty           6.4      310   \n",
      "1964                      Armed and Dangerous           5.3     2620   \n",
      "1116                           Batman Returns           6.6      364   \n",
      "8921       Batman v Superman: Dawn of Justice           5.7   209112   \n",
      "2700                 Harry and the Hendersons           5.6     8989   \n",
      "132                            Batman Forever           5.2      414   \n",
      "1242                           Batman & Robin           4.2      415   \n",
      "\n",
      "      Estimated Prediction  \n",
      "6909              4.837238  \n",
      "6937              4.698213  \n",
      "8144              4.538936  \n",
      "8237              4.527687  \n",
      "7941              4.350985  \n",
      "7284              4.344511  \n",
      "2581              4.309435  \n",
      "8762              4.273089  \n",
      "7911              4.271779  \n",
      "8174              4.251017  \n",
      "4524              4.241267  \n",
      "9021              4.199112  \n",
      "8760              4.184772  \n",
      "7575              4.169111  \n",
      "6927              4.140146  \n",
      "7498              4.113155  \n",
      "1788              4.107414  \n",
      "7392              4.064911  \n",
      "8025              4.052575  \n",
      "9062              4.041767  \n",
      "8699              4.039713  \n",
      "524               4.021714  \n",
      "5946              4.008746  \n",
      "4608              3.985162  \n",
      "1964              3.939507  \n",
      "1116              3.926285  \n",
      "8921              3.603264  \n",
      "2700              3.552579  \n",
      "132               3.531144  \n",
      "1242              3.231588  \n"
     ]
    }
   ],
   "source": [
    "result = hybrid(652,'Batman Begins')\n",
    "print(\"Recommandation avant de prendre en considération le contexte\")\n",
    "print(result)"
   ]
  },
  {
   "cell_type": "code",
   "execution_count": 54,
   "metadata": {
    "pycharm": {
     "name": "#%%\n"
    }
   },
   "outputs": [
    {
     "name": "stdout",
     "output_type": "stream",
     "text": [
      "morning\n",
      "winter\n",
      "False\n"
     ]
    }
   ],
   "source": [
    "# necessary functions for contextual_update function\n",
    "\n",
    "def day_time():\n",
    "    now = datetime.now().time()\n",
    "    morning=now.replace(hour=12,minute=0,second=0,microsecond=0)\n",
    "    afternoon=now.replace(hour=16,minute=0,second=0,microsecond=0)\n",
    "    evening=now.replace(hour=19,minute=0,second=0,microsecond=0)\n",
    "\n",
    "    if now< morning :\n",
    "        return \"morning\"\n",
    "    elif now<afternoon :\n",
    "        return \"afternoon\"\n",
    "    elif now<evening :\n",
    "        return \"evening\"\n",
    "    else :\n",
    "        return \"night\"\n",
    "\n",
    "def season():\n",
    "    month = datetime.now().month\n",
    "\n",
    "    if month < 4:\n",
    "        return \"winter\"\n",
    "    elif month <6:\n",
    "        return \"summer\"\n",
    "    elif month <9:\n",
    "        return \"rainy\"\n",
    "    elif month < 11:\n",
    "        return \"autumn\"\n",
    "    else :\n",
    "        return  \"winter\"\n",
    "\n",
    "def is_weekend():\n",
    "    day=datetime.now().isoweekday()\n",
    "    if day< 6:\n",
    "        return False\n",
    "    return True\n",
    "\n",
    "\n",
    "\n",
    "print(day_time())\n",
    "print(season())\n",
    "print(is_weekend())"
   ]
  },
  {
   "cell_type": "code",
   "execution_count": null,
   "metadata": {
    "pycharm": {
     "name": "#%%\n"
    }
   },
   "outputs": [],
   "source": []
  },
  {
   "cell_type": "code",
   "execution_count": 46,
   "metadata": {
    "pycharm": {
     "name": "#%%\n"
    }
   },
   "outputs": [],
   "source": [
    "def recommendation_updater(recommended_list,genre_score):\n",
    "    #print(\"reached recommendation updater - \")\n",
    "    new_list=recommended_list.copy()\n",
    "    for ind in recommended_list.index:\n",
    "        new_score=0\n",
    "        movie_genre= list(eval(recommended_list['genres'][ind]))\n",
    "        #print(recommended_list['genres'][ind])\n",
    "        #print(type(recommended_list['genres'][ind]))\n",
    "        #print(movie_genre)\n",
    "        curr_genre_list= [li['name'] for li in movie_genre]\n",
    "        #print(curr_genre_list)\n",
    "        for genre in curr_genre_list:\n",
    "            if genre in genre_score:\n",
    "                new_score+=genre_score[genre]\n",
    "        #print(new_score)\n",
    "        new_list['Estimated Prediction'][ind]=new_list['Estimated Prediction'][ind]+new_score\n",
    "    return new_list"
   ]
  },
  {
   "cell_type": "code",
   "execution_count": 49,
   "metadata": {
    "pycharm": {
     "name": "#%%\n"
    }
   },
   "outputs": [],
   "source": [
    "def contextual_update(list_passed,family=False,device=\"Mobile\",no_of_people=1,date_passed=datetime.now().date()) :\n",
    "    # categories we have romance,action,comedy,drama ,crime and thriller ,documentary,sci-fi\n",
    "    recommended_list=list_passed.copy()\n",
    "    print(\"Recommandation modifiés après avoir pris le contexte en considération:- \")\n",
    "\n",
    "    # Adding Genres for update\n",
    "    recommended_list = pd.merge(recommended_list,meta[['tmdbId','genres']],left_on=['TMDb Id'],right_on=['tmdbId']).dropna()\n",
    "\n",
    "    # Reducing score to take account for contextual_update\n",
    "\n",
    "    effect_rate = 0.75\n",
    "    category=4\n",
    "    recommended_list['Estimated Prediction']=recommended_list['Estimated Prediction']-effect_rate\n",
    "\n",
    "\n",
    "    # Timing based\n",
    "\n",
    "    day_part = day_time()\n",
    "    if day_part == \"morning\":\n",
    "        scores={\n",
    "        'Romance':0.24*(effect_rate/category),'Action':0.18*(effect_rate/category),'Comedy':0.64*(effect_rate/category),'Drama':0.24*(effect_rate/category),'Crime':0.17*(effect_rate/category)\n",
    "        ,'Thriller':0.17*(effect_rate/category),'Documentary':0.25*(effect_rate/category),'Science Fiction':0.28*(effect_rate/category)\n",
    "        }\n",
    "    elif day_part ==\"afternoon\":\n",
    "        scores ={\n",
    "           'Romance':0.18*(effect_rate/category),'Action':0.44*(effect_rate/category),'Comedy':0.48*(effect_rate/category),'Drama':0.35*(effect_rate/category),'Crime':0.5*(effect_rate/category)\n",
    "        ,'Thriller':0.5*(effect_rate/category),'Documentary':0.24*(effect_rate/category),'Science Fiction':0.35*(effect_rate/category)\n",
    "        }\n",
    "    elif day_part ==\"evening\":\n",
    "        scores={\n",
    "        'Romance':0.4*(effect_rate/category),'Action':0.34*(effect_rate/category),'Comedy':0.48*(effect_rate/category),'Drama':0.3*(effect_rate/category),'Crime':0.4*(effect_rate/category)\n",
    "        ,'Thriller':0.4*(effect_rate/category),'Documentary':0.24*(effect_rate/category),'Science Fiction':0.32*(effect_rate/category)\n",
    "        }\n",
    "    else :\n",
    "        scores={\n",
    "        'Romance':0.57*(effect_rate/category),'Action':0.37*(effect_rate/category),'Comedy':0.42*(effect_rate/category),'Drama':0.37*(effect_rate/category),'Crime':0.54*(effect_rate/category)\n",
    "        ,'Thriller':0.54*(effect_rate/category),'Documentary':0.31*(effect_rate/category),'Science Fiction':0.41*(effect_rate/category)\n",
    "        }\n",
    "    recommended_list=recommendation_updater(recommended_list,scores)\n",
    "\n",
    "    # Season based\n",
    "    curr_season = season()\n",
    "    if curr_season == \"summer\":\n",
    "        scores={\n",
    "        'Romance':0.32*(effect_rate/category),'Action':0.48*(effect_rate/category),'Comedy':0.57*(effect_rate/category),'Drama':0.5*(effect_rate/category),'Crime':0.6*(effect_rate/category)\n",
    "        ,'Thriller':0.6*(effect_rate/category),'Documentary':0.27*(effect_rate/category),'Science Fiction':0.47*(effect_rate/category)\n",
    "        }\n",
    "    elif curr_season == \"rainy\":\n",
    "        scores={\n",
    "        'Romance':0.57*(effect_rate/category),'Action':0.3*(effect_rate/category),'Comedy':0.52*(effect_rate/category),'Drama':0.5*(effect_rate/category),'Crime':0.41*(effect_rate/category)\n",
    "        ,'Thriller':0.41*(effect_rate/category),'Documentary':0.14*(effect_rate/category),'Science Fiction':0.32*(effect_rate/category)\n",
    "        }\n",
    "    elif curr_season == \"autumn\":\n",
    "        scores={\n",
    "        'Romance':0.41*(effect_rate/category),'Action':0.37*(effect_rate/category),'Comedy':0.5*(effect_rate/category),'Drama':0.48*(effect_rate/category),'Crime':0.52*(effect_rate/category)\n",
    "        ,'Thriller':0.52*(effect_rate/category),'Documentary':0.31*(effect_rate/category),'Science Fiction':0.44*(effect_rate/category)\n",
    "        }\n",
    "    else :\n",
    "        scores={\n",
    "        'Romance':0.54*(effect_rate/category),'Action':0.45*(effect_rate/category),'Comedy':0.51*(effect_rate/category),'Drama':0.42*(effect_rate/category),'Crime':0.5*(effect_rate/category)\n",
    "        ,'Thriller':0.5*(effect_rate/category),'Documentary':0.21*(effect_rate/category),'Science Fiction':0.32*(effect_rate/category)\n",
    "        }\n",
    "    recommended_list=recommendation_updater(recommended_list,scores)\n",
    "\n",
    "    # Weekday based -\n",
    "\n",
    "    if is_weekend():\n",
    "        scores={\n",
    "        'Romance':0.41*(effect_rate/category),'Action':0.48*(effect_rate/category),'Comedy':0.54*(effect_rate/category),'Drama':0.38*(effect_rate/category),'Crime':0.7*(effect_rate/category)\n",
    "        ,'Thriller':0.7*(effect_rate/category),'Documentary':0.28*(effect_rate/category),'Science Fiction':0.41*(effect_rate/category)\n",
    "        }\n",
    "    else :\n",
    "        scores={\n",
    "        'Romance':0.37*(effect_rate/category),'Action':0.32*(effect_rate/category),'Comedy':0.51*(effect_rate/category),'Drama':0.32*(effect_rate/category),'Crime':0.48*(effect_rate/category)\n",
    "        ,'Thriller':0.48*(effect_rate/category),'Documentary':0.21*(effect_rate/category),'Science Fiction':0.38*(effect_rate/category)\n",
    "        }\n",
    "\n",
    "    recommended_list=recommendation_updater(recommended_list,scores)\n",
    "\n",
    "    # Device Based\n",
    "\n",
    "    if  device == \"phone\":\n",
    "        scores={\n",
    "        'Romance':0.36*(effect_rate/category),'Action':0.24*(effect_rate/category),'Comedy':0.66*(effect_rate/category),'Drama':0.44*(effect_rate/category),'Crime':0.38*(effect_rate/category)\n",
    "        ,'Thriller':0.38*(effect_rate/category),'Documentary':0.2*(effect_rate/category),'Science Fiction':0.21*(effect_rate/category)\n",
    "        }\n",
    "    elif device ==\"tablet\":\n",
    "        scores={\n",
    "        'Romance':0.34*(effect_rate/category),'Action':0.37*(effect_rate/category),'Comedy':0.43*(effect_rate/category),'Drama':0.43*(effect_rate/category),'Crime':0.42*(effect_rate/category)\n",
    "        ,'Thriller':0.42*(effect_rate/category),'Documentary':0.22*(effect_rate/category),'Science Fiction':0.36*(effect_rate/category)\n",
    "        }\n",
    "    else :\n",
    "        scores={\n",
    "        'Romance':0.33*(effect_rate/category),'Action':0.6*(effect_rate/category),'Comedy':0.24*(effect_rate/category),'Drama':0.3*(effect_rate/category),'Crime':0.66*(effect_rate/category)\n",
    "        ,'Thriller':0.66*(effect_rate/category),'Documentary':0.21*(effect_rate/category),'Science Fiction':0.58*(effect_rate/category)\n",
    "        }\n",
    "    recommended_list=recommendation_updater(recommended_list,scores)\n",
    "\n",
    "    # Based on Number of people and Family -\n",
    "\n",
    "    if no_of_people >1 :\n",
    "        if family:\n",
    "            scores={\n",
    "            'Romance':0.1*(effect_rate/category),'Action':0.43*(effect_rate/category),'Comedy':0.66*(effect_rate/category),'Drama':0.49*(effect_rate/category),'Crime':0.26*(effect_rate/category)\n",
    "        ,'Thriller':0.26*(effect_rate/category),'Documentary':0.36*(effect_rate/category),'Science Fiction':0.29*(effect_rate/category)\n",
    "        }\n",
    "        else :\n",
    "            scores={\n",
    "        'Romance':0.33*(effect_rate/category),'Action':0.63*(effect_rate/category),'Comedy':0.54*(effect_rate/category),'Drama':0.33*(effect_rate/category),'Crime':0.61*(effect_rate/category)\n",
    "        ,'Thriller':0.61*(effect_rate/category),'Documentary':0.17*(effect_rate/category),'Science Fiction':0.54*(effect_rate/category)\n",
    "        }\n",
    "\n",
    "        recommended_list=recommendation_updater(recommended_list,scores)\n",
    "\n",
    "    # removing genre from table\n",
    "\n",
    "    recommended_list.drop(['tmdbId','genres'],axis=1,inplace=True)\n",
    "\n",
    "    # Sorting the list for final result and comparing\n",
    "    #print(list_passed)\n",
    "    recommended_list.sort_values(by='Estimated Prediction',ascending=False,inplace=True)\n",
    "    print(recommended_list)"
   ]
  },
  {
   "cell_type": "code",
   "execution_count": 51,
   "metadata": {
    "pycharm": {
     "name": "#%%\n"
    }
   },
   "outputs": [
    {
     "name": "stdout",
     "output_type": "stream",
     "text": [
      "Recommandation modifiés après avoir pris le contexte en considération:- \n",
      "                                      Title  Vote Average  TMDb Id  \\\n",
      "0                           The Dark Knight           8.3      155   \n",
      "4                     The Dark Knight Rises           7.6    49026   \n",
      "15                                 Defendor           6.5    34769   \n",
      "19                               I Am Wrath           4.5   332411   \n",
      "5           Gangster's Paradise: Jerusalema           6.8    22600   \n",
      "1                                  Iron Man           7.4     1726   \n",
      "2                         Seven Psychopaths           6.7    86838   \n",
      "8                          Batman: Year One           7.1    69735   \n",
      "12                             Wicked Blood           5.3   256740   \n",
      "24                      Armed and Dangerous           5.3     2620   \n",
      "7              Star Wars: The Force Awakens           7.5   140607   \n",
      "3   Batman: The Dark Knight Returns, Part 2           7.9   142061   \n",
      "17                                   Shrink           6.1    22640   \n",
      "14                              Speed Racer           5.7     7459   \n",
      "18                             The Big Bang           5.5    54271   \n",
      "20    The Hunger Games: Mockingjay - Part 1           6.6   131631   \n",
      "22                Ong-Bak: The Thai Warrior           7.0     9316   \n",
      "6              Batman: Mask of the Phantasm           7.4    14919   \n",
      "11                  A Very Murray Christmas           5.2   364067   \n",
      "9   Batman: The Dark Knight Returns, Part 1           7.7   123025   \n",
      "10                     Bang the Drum Slowly           6.3    42459   \n",
      "13               Batman: Under the Red Hood           7.6    40662   \n",
      "16                         The Seventh Sign           5.9    11082   \n",
      "23                           Bruce Almighty           6.4      310   \n",
      "21                                   Batman           7.0      268   \n",
      "25                           Batman Returns           6.6      364   \n",
      "28                           Batman Forever           5.2      414   \n",
      "27                 Harry and the Hendersons           5.6     8989   \n",
      "29                           Batman & Robin           4.2      415   \n",
      "26       Batman v Superman: Dawn of Justice           5.7   209112   \n",
      "\n",
      "    Estimated Prediction  \n",
      "0               5.566613  \n",
      "4               5.080360  \n",
      "15              4.934405  \n",
      "19              4.771142  \n",
      "5               4.685761  \n",
      "1               4.666338  \n",
      "2               4.657061  \n",
      "8               4.628029  \n",
      "12              4.526022  \n",
      "24              4.428882  \n",
      "7               4.241214  \n",
      "3               4.148937  \n",
      "17              4.126786  \n",
      "14              4.108271  \n",
      "18              4.061950  \n",
      "20              4.024713  \n",
      "22              4.018121  \n",
      "6               3.930685  \n",
      "11              3.929112  \n",
      "9               3.872267  \n",
      "10              3.823142  \n",
      "13              3.790361  \n",
      "16              3.745539  \n",
      "23              3.715162  \n",
      "21              3.642964  \n",
      "25              3.547535  \n",
      "28              3.540519  \n",
      "27              3.282579  \n",
      "29              3.240963  \n",
      "26              3.224514  \n"
     ]
    },
    {
     "name": "stderr",
     "output_type": "stream",
     "text": [
      "/home/rim/.local/lib/python3.6/site-packages/ipykernel_launcher.py:16: SettingWithCopyWarning: \n",
      "A value is trying to be set on a copy of a slice from a DataFrame\n",
      "\n",
      "See the caveats in the documentation: https://pandas.pydata.org/pandas-docs/stable/user_guide/indexing.html#returning-a-view-versus-a-copy\n",
      "  app.launch_new_instance()\n"
     ]
    }
   ],
   "source": [
    "contextual_update(result,family=True,no_of_people=5)"
   ]
  },
  {
   "cell_type": "code",
   "execution_count": null,
   "metadata": {
    "pycharm": {
     "name": "#%%\n"
    }
   },
   "outputs": [],
   "source": [
    "\n"
   ]
  }
 ],
 "metadata": {
  "kernelspec": {
   "display_name": "Python 3 (ipykernel)",
   "language": "python",
   "name": "python3"
  },
  "language_info": {
   "codemirror_mode": {
    "name": "ipython",
    "version": 3
   },
   "file_extension": ".py",
   "mimetype": "text/x-python",
   "name": "python",
   "nbconvert_exporter": "python",
   "pygments_lexer": "ipython3",
   "version": "3.8.10"
  },
  "pycharm": {
   "stem_cell": {
    "cell_type": "raw",
    "metadata": {
     "collapsed": false
    },
    "source": [
     "#Hybrid Recommender"
    ]
   }
  }
 },
 "nbformat": 4,
 "nbformat_minor": 4
}
